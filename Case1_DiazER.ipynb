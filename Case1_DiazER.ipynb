{
 "cells": [
  {
   "cell_type": "code",
   "execution_count": 1,
   "metadata": {},
   "outputs": [
    {
     "name": "stdout",
     "output_type": "stream",
     "text": [
      "Populating the interactive namespace from numpy and matplotlib\n"
     ]
    }
   ],
   "source": [
    "%pylab inline\n",
    "import numpy as np\n",
    "import pandas as pd\n",
    "import matplotlib.pyplot as plt\n",
    "\n",
    "from sklearn.metrics import *\n",
    "from sklearn.model_selection import train_test_split"
   ]
  },
  {
   "cell_type": "code",
   "execution_count": 2,
   "metadata": {},
   "outputs": [],
   "source": [
    "filename = \"https://archive.ics.uci.edu/ml/machine-learning-databases/heart-disease/processed.cleveland.data\""
   ]
  },
  {
   "cell_type": "code",
   "execution_count": 3,
   "metadata": {},
   "outputs": [],
   "source": [
    "col_name = ['age',\n",
    "            'sex',\n",
    "             'cp',\n",
    "             'chol',\n",
    "             'trestbps',\n",
    "             'fbs',\n",
    "             'restecg',\n",
    "             'thalach',\n",
    "             'exang',\n",
    "             'olddek',\n",
    "             'slope',\n",
    "             'ca',\n",
    "             'thal',\n",
    "             'num'\n",
    "    \n",
    "]\n",
    "             "
   ]
  },
  {
   "cell_type": "code",
   "execution_count": 4,
   "metadata": {},
   "outputs": [],
   "source": [
    "df = pd.read_csv(filename,\n",
    "                index_col = None,\n",
    "                header = None,\n",
    "                names = col_name,\n",
    "                na_values = '?')"
   ]
  },
  {
   "cell_type": "code",
   "execution_count": 5,
   "metadata": {},
   "outputs": [
    {
     "data": {
      "text/html": [
       "<div>\n",
       "<style scoped>\n",
       "    .dataframe tbody tr th:only-of-type {\n",
       "        vertical-align: middle;\n",
       "    }\n",
       "\n",
       "    .dataframe tbody tr th {\n",
       "        vertical-align: top;\n",
       "    }\n",
       "\n",
       "    .dataframe thead th {\n",
       "        text-align: right;\n",
       "    }\n",
       "</style>\n",
       "<table border=\"1\" class=\"dataframe\">\n",
       "  <thead>\n",
       "    <tr style=\"text-align: right;\">\n",
       "      <th></th>\n",
       "      <th>age</th>\n",
       "      <th>sex</th>\n",
       "      <th>cp</th>\n",
       "      <th>chol</th>\n",
       "      <th>trestbps</th>\n",
       "      <th>fbs</th>\n",
       "      <th>restecg</th>\n",
       "      <th>thalach</th>\n",
       "      <th>exang</th>\n",
       "      <th>olddek</th>\n",
       "      <th>slope</th>\n",
       "      <th>ca</th>\n",
       "      <th>thal</th>\n",
       "      <th>num</th>\n",
       "    </tr>\n",
       "  </thead>\n",
       "  <tbody>\n",
       "    <tr>\n",
       "      <th>0</th>\n",
       "      <td>63.0</td>\n",
       "      <td>1.0</td>\n",
       "      <td>1.0</td>\n",
       "      <td>145.0</td>\n",
       "      <td>233.0</td>\n",
       "      <td>1.0</td>\n",
       "      <td>2.0</td>\n",
       "      <td>150.0</td>\n",
       "      <td>0.0</td>\n",
       "      <td>2.3</td>\n",
       "      <td>3.0</td>\n",
       "      <td>0.0</td>\n",
       "      <td>6.0</td>\n",
       "      <td>0</td>\n",
       "    </tr>\n",
       "    <tr>\n",
       "      <th>1</th>\n",
       "      <td>67.0</td>\n",
       "      <td>1.0</td>\n",
       "      <td>4.0</td>\n",
       "      <td>160.0</td>\n",
       "      <td>286.0</td>\n",
       "      <td>0.0</td>\n",
       "      <td>2.0</td>\n",
       "      <td>108.0</td>\n",
       "      <td>1.0</td>\n",
       "      <td>1.5</td>\n",
       "      <td>2.0</td>\n",
       "      <td>3.0</td>\n",
       "      <td>3.0</td>\n",
       "      <td>2</td>\n",
       "    </tr>\n",
       "    <tr>\n",
       "      <th>2</th>\n",
       "      <td>67.0</td>\n",
       "      <td>1.0</td>\n",
       "      <td>4.0</td>\n",
       "      <td>120.0</td>\n",
       "      <td>229.0</td>\n",
       "      <td>0.0</td>\n",
       "      <td>2.0</td>\n",
       "      <td>129.0</td>\n",
       "      <td>1.0</td>\n",
       "      <td>2.6</td>\n",
       "      <td>2.0</td>\n",
       "      <td>2.0</td>\n",
       "      <td>7.0</td>\n",
       "      <td>1</td>\n",
       "    </tr>\n",
       "    <tr>\n",
       "      <th>3</th>\n",
       "      <td>37.0</td>\n",
       "      <td>1.0</td>\n",
       "      <td>3.0</td>\n",
       "      <td>130.0</td>\n",
       "      <td>250.0</td>\n",
       "      <td>0.0</td>\n",
       "      <td>0.0</td>\n",
       "      <td>187.0</td>\n",
       "      <td>0.0</td>\n",
       "      <td>3.5</td>\n",
       "      <td>3.0</td>\n",
       "      <td>0.0</td>\n",
       "      <td>3.0</td>\n",
       "      <td>0</td>\n",
       "    </tr>\n",
       "    <tr>\n",
       "      <th>4</th>\n",
       "      <td>41.0</td>\n",
       "      <td>0.0</td>\n",
       "      <td>2.0</td>\n",
       "      <td>130.0</td>\n",
       "      <td>204.0</td>\n",
       "      <td>0.0</td>\n",
       "      <td>2.0</td>\n",
       "      <td>172.0</td>\n",
       "      <td>0.0</td>\n",
       "      <td>1.4</td>\n",
       "      <td>1.0</td>\n",
       "      <td>0.0</td>\n",
       "      <td>3.0</td>\n",
       "      <td>0</td>\n",
       "    </tr>\n",
       "  </tbody>\n",
       "</table>\n",
       "</div>"
      ],
      "text/plain": [
       "    age  sex   cp   chol  trestbps  fbs  restecg  thalach  exang  olddek  \\\n",
       "0  63.0  1.0  1.0  145.0     233.0  1.0      2.0    150.0    0.0     2.3   \n",
       "1  67.0  1.0  4.0  160.0     286.0  0.0      2.0    108.0    1.0     1.5   \n",
       "2  67.0  1.0  4.0  120.0     229.0  0.0      2.0    129.0    1.0     2.6   \n",
       "3  37.0  1.0  3.0  130.0     250.0  0.0      0.0    187.0    0.0     3.5   \n",
       "4  41.0  0.0  2.0  130.0     204.0  0.0      2.0    172.0    0.0     1.4   \n",
       "\n",
       "   slope   ca  thal  num  \n",
       "0    3.0  0.0   6.0    0  \n",
       "1    2.0  3.0   3.0    2  \n",
       "2    2.0  2.0   7.0    1  \n",
       "3    3.0  0.0   3.0    0  \n",
       "4    1.0  0.0   3.0    0  "
      ]
     },
     "execution_count": 5,
     "metadata": {},
     "output_type": "execute_result"
    }
   ],
   "source": [
    "df.head()"
   ]
  },
  {
   "cell_type": "code",
   "execution_count": 6,
   "metadata": {},
   "outputs": [
    {
     "data": {
      "text/plain": [
       "(303, 14)"
      ]
     },
     "execution_count": 6,
     "metadata": {},
     "output_type": "execute_result"
    }
   ],
   "source": [
    "#df = df.rename(columns = col_rename)\n",
    "df.shape # 303 by 14 columns"
   ]
  },
  {
   "cell_type": "code",
   "execution_count": 7,
   "metadata": {},
   "outputs": [],
   "source": [
    "# Which are the rows with missing data?\n",
    "null_data = df[df.isnull().any(axis=1)]"
   ]
  },
  {
   "cell_type": "code",
   "execution_count": 8,
   "metadata": {},
   "outputs": [
    {
     "data": {
      "text/html": [
       "<div>\n",
       "<style scoped>\n",
       "    .dataframe tbody tr th:only-of-type {\n",
       "        vertical-align: middle;\n",
       "    }\n",
       "\n",
       "    .dataframe tbody tr th {\n",
       "        vertical-align: top;\n",
       "    }\n",
       "\n",
       "    .dataframe thead th {\n",
       "        text-align: right;\n",
       "    }\n",
       "</style>\n",
       "<table border=\"1\" class=\"dataframe\">\n",
       "  <thead>\n",
       "    <tr style=\"text-align: right;\">\n",
       "      <th></th>\n",
       "      <th>age</th>\n",
       "      <th>sex</th>\n",
       "      <th>cp</th>\n",
       "      <th>chol</th>\n",
       "      <th>trestbps</th>\n",
       "      <th>fbs</th>\n",
       "      <th>restecg</th>\n",
       "      <th>thalach</th>\n",
       "      <th>exang</th>\n",
       "      <th>olddek</th>\n",
       "      <th>slope</th>\n",
       "      <th>ca</th>\n",
       "      <th>thal</th>\n",
       "      <th>num</th>\n",
       "    </tr>\n",
       "  </thead>\n",
       "  <tbody>\n",
       "    <tr>\n",
       "      <th>87</th>\n",
       "      <td>53.0</td>\n",
       "      <td>0.0</td>\n",
       "      <td>3.0</td>\n",
       "      <td>128.0</td>\n",
       "      <td>216.0</td>\n",
       "      <td>0.0</td>\n",
       "      <td>2.0</td>\n",
       "      <td>115.0</td>\n",
       "      <td>0.0</td>\n",
       "      <td>0.0</td>\n",
       "      <td>1.0</td>\n",
       "      <td>0.0</td>\n",
       "      <td>NaN</td>\n",
       "      <td>0</td>\n",
       "    </tr>\n",
       "    <tr>\n",
       "      <th>166</th>\n",
       "      <td>52.0</td>\n",
       "      <td>1.0</td>\n",
       "      <td>3.0</td>\n",
       "      <td>138.0</td>\n",
       "      <td>223.0</td>\n",
       "      <td>0.0</td>\n",
       "      <td>0.0</td>\n",
       "      <td>169.0</td>\n",
       "      <td>0.0</td>\n",
       "      <td>0.0</td>\n",
       "      <td>1.0</td>\n",
       "      <td>NaN</td>\n",
       "      <td>3.0</td>\n",
       "      <td>0</td>\n",
       "    </tr>\n",
       "    <tr>\n",
       "      <th>192</th>\n",
       "      <td>43.0</td>\n",
       "      <td>1.0</td>\n",
       "      <td>4.0</td>\n",
       "      <td>132.0</td>\n",
       "      <td>247.0</td>\n",
       "      <td>1.0</td>\n",
       "      <td>2.0</td>\n",
       "      <td>143.0</td>\n",
       "      <td>1.0</td>\n",
       "      <td>0.1</td>\n",
       "      <td>2.0</td>\n",
       "      <td>NaN</td>\n",
       "      <td>7.0</td>\n",
       "      <td>1</td>\n",
       "    </tr>\n",
       "    <tr>\n",
       "      <th>266</th>\n",
       "      <td>52.0</td>\n",
       "      <td>1.0</td>\n",
       "      <td>4.0</td>\n",
       "      <td>128.0</td>\n",
       "      <td>204.0</td>\n",
       "      <td>1.0</td>\n",
       "      <td>0.0</td>\n",
       "      <td>156.0</td>\n",
       "      <td>1.0</td>\n",
       "      <td>1.0</td>\n",
       "      <td>2.0</td>\n",
       "      <td>0.0</td>\n",
       "      <td>NaN</td>\n",
       "      <td>2</td>\n",
       "    </tr>\n",
       "    <tr>\n",
       "      <th>287</th>\n",
       "      <td>58.0</td>\n",
       "      <td>1.0</td>\n",
       "      <td>2.0</td>\n",
       "      <td>125.0</td>\n",
       "      <td>220.0</td>\n",
       "      <td>0.0</td>\n",
       "      <td>0.0</td>\n",
       "      <td>144.0</td>\n",
       "      <td>0.0</td>\n",
       "      <td>0.4</td>\n",
       "      <td>2.0</td>\n",
       "      <td>NaN</td>\n",
       "      <td>7.0</td>\n",
       "      <td>0</td>\n",
       "    </tr>\n",
       "    <tr>\n",
       "      <th>302</th>\n",
       "      <td>38.0</td>\n",
       "      <td>1.0</td>\n",
       "      <td>3.0</td>\n",
       "      <td>138.0</td>\n",
       "      <td>175.0</td>\n",
       "      <td>0.0</td>\n",
       "      <td>0.0</td>\n",
       "      <td>173.0</td>\n",
       "      <td>0.0</td>\n",
       "      <td>0.0</td>\n",
       "      <td>1.0</td>\n",
       "      <td>NaN</td>\n",
       "      <td>3.0</td>\n",
       "      <td>0</td>\n",
       "    </tr>\n",
       "  </tbody>\n",
       "</table>\n",
       "</div>"
      ],
      "text/plain": [
       "      age  sex   cp   chol  trestbps  fbs  restecg  thalach  exang  olddek  \\\n",
       "87   53.0  0.0  3.0  128.0     216.0  0.0      2.0    115.0    0.0     0.0   \n",
       "166  52.0  1.0  3.0  138.0     223.0  0.0      0.0    169.0    0.0     0.0   \n",
       "192  43.0  1.0  4.0  132.0     247.0  1.0      2.0    143.0    1.0     0.1   \n",
       "266  52.0  1.0  4.0  128.0     204.0  1.0      0.0    156.0    1.0     1.0   \n",
       "287  58.0  1.0  2.0  125.0     220.0  0.0      0.0    144.0    0.0     0.4   \n",
       "302  38.0  1.0  3.0  138.0     175.0  0.0      0.0    173.0    0.0     0.0   \n",
       "\n",
       "     slope   ca  thal  num  \n",
       "87     1.0  0.0   NaN    0  \n",
       "166    1.0  NaN   3.0    0  \n",
       "192    2.0  NaN   7.0    1  \n",
       "266    2.0  0.0   NaN    2  \n",
       "287    2.0  NaN   7.0    0  \n",
       "302    1.0  NaN   3.0    0  "
      ]
     },
     "execution_count": 8,
     "metadata": {},
     "output_type": "execute_result"
    }
   ],
   "source": [
    "null_data"
   ]
  },
  {
   "cell_type": "code",
   "execution_count": 9,
   "metadata": {},
   "outputs": [
    {
     "data": {
      "text/plain": [
       "age         float64\n",
       "sex         float64\n",
       "cp          float64\n",
       "chol        float64\n",
       "trestbps    float64\n",
       "fbs         float64\n",
       "restecg     float64\n",
       "thalach     float64\n",
       "exang       float64\n",
       "olddek      float64\n",
       "slope       float64\n",
       "ca          float64\n",
       "thal        float64\n",
       "num           int64\n",
       "dtype: object"
      ]
     },
     "execution_count": 9,
     "metadata": {},
     "output_type": "execute_result"
    }
   ],
   "source": [
    "# What are the types?\n",
    "df.dtypes"
   ]
  },
  {
   "cell_type": "raw",
   "metadata": {},
   "source": [
    "#############################\n",
    "# DETAILS about the dataset:#\n",
    "#############################\n",
    "\n",
    "age: age in years \n",
    "sex: sex (1 = male; 0 = female)                                 <-----should be category\n",
    "cp: chest pain type                                             <-----should be category\n",
    "        -- Value 1: typical angina\n",
    "        -- Value 2: atypical angina\n",
    "        -- Value 3: non-anginal pain\n",
    "        -- Value 4: asymptomatic\n",
    "restbps: resting blood pressure (in mm Hg on admission to the \n",
    "        hospital)            \n",
    "chol: serum cholestoral in mg/dl\n",
    "fbs: (fasting blood sugar > 120 mg/dl)  (1 = true; 0 = false) <-----should be category   \n",
    "restecg: resting electrocardiographic results                 <-----should be category\n",
    "        -- Value 0: normal\n",
    "        -- Value 1: having ST-T wave abnormality (T wave inversions and/or ST \n",
    "                    elevation or depression of > 0.05 mV)\n",
    "        -- Value 2: showing probable or definite left ventricular hypertrophy\n",
    "                    by Estes' criteria\n",
    "thalach: maximum heart rate achieved\n",
    "exang: exercise induced angina (1 = yes; 0 = no)             <-----should be category\n",
    "olddek: ?? (continuous)\n",
    "slope: the slope of the peak exercise ST segment             <-----should be category\n",
    "        -- Value 1: upsloping\n",
    "        -- Value 2: flat\n",
    "        -- Value 3: downsloping\n",
    "ca: number of major vessels (0-3) colored by flourosopy       <-----should be INTEGER\n",
    "thal: 3 = normal; 6 = fixed defect; 7 = reversable defect     <-----should be category\n",
    "num: diagnosis of heart disease (angiographic disease status) <-----should be category\n",
    "        -- Value 0: < 50% diameter narrowing\n",
    "        -- Value 1: > 50% diameter narrowing\n",
    "        (in any major vessel: attributes 59 through 68 are vessels)"
   ]
  },
  {
   "cell_type": "code",
   "execution_count": 10,
   "metadata": {},
   "outputs": [],
   "source": [
    "df[\"age\"] = df[\"age\"].astype('category')\n",
    "df[\"sex\"] = df[\"sex\"].astype('category')\n",
    "df[\"fbs\"] = df[\"fbs\"].astype('category')\n",
    "df[\"restecg\"] = df[\"restecg\"].astype('category')\n",
    "df[\"slope\"] = df[\"slope\"].astype('category')\n",
    "df[\"ca\"] = df[\"ca\"].astype('category')\n",
    "df[\"thal\"] = df[\"thal\"].astype('category')\n",
    "df[\"num\"] = df[\"num\"].astype('category')"
   ]
  },
  {
   "cell_type": "code",
   "execution_count": 11,
   "metadata": {},
   "outputs": [
    {
     "data": {
      "text/plain": [
       "age         category\n",
       "sex         category\n",
       "cp           float64\n",
       "chol         float64\n",
       "trestbps     float64\n",
       "fbs         category\n",
       "restecg     category\n",
       "thalach      float64\n",
       "exang        float64\n",
       "olddek       float64\n",
       "slope       category\n",
       "ca          category\n",
       "thal        category\n",
       "num         category\n",
       "dtype: object"
      ]
     },
     "execution_count": 11,
     "metadata": {},
     "output_type": "execute_result"
    }
   ],
   "source": [
    "df.dtypes"
   ]
  },
  {
   "cell_type": "code",
   "execution_count": 12,
   "metadata": {},
   "outputs": [],
   "source": [
    "# Removing \n",
    "df = df.dropna()\n",
    "#df.head()"
   ]
  },
  {
   "cell_type": "code",
   "execution_count": 13,
   "metadata": {},
   "outputs": [
    {
     "data": {
      "text/plain": [
       "(297, 14)"
      ]
     },
     "execution_count": 13,
     "metadata": {},
     "output_type": "execute_result"
    }
   ],
   "source": [
    "df.shape"
   ]
  },
  {
   "cell_type": "code",
   "execution_count": 14,
   "metadata": {},
   "outputs": [
    {
     "data": {
      "text/plain": [
       "age          63\n",
       "sex           1\n",
       "cp            1\n",
       "chol        145\n",
       "trestbps    233\n",
       "fbs           1\n",
       "restecg       2\n",
       "thalach     150\n",
       "exang         0\n",
       "olddek      2.3\n",
       "slope         3\n",
       "ca            0\n",
       "thal          6\n",
       "num           0\n",
       "Name: 0, dtype: object"
      ]
     },
     "execution_count": 14,
     "metadata": {},
     "output_type": "execute_result"
    }
   ],
   "source": [
    "df.iloc[0,:]"
   ]
  },
  {
   "cell_type": "code",
   "execution_count": 15,
   "metadata": {},
   "outputs": [],
   "source": [
    "#SHUFFLING\n",
    "df = df.sample(frac=1)"
   ]
  },
  {
   "cell_type": "code",
   "execution_count": 16,
   "metadata": {},
   "outputs": [],
   "source": [
    "X = df.iloc[:, 0:13] # DATA\n",
    "Y = 1*(df.iloc[:, 13].astype('float64') > 0) # \n",
    "Y = Y.astype('category') # \n"
   ]
  },
  {
   "cell_type": "code",
   "execution_count": 17,
   "metadata": {},
   "outputs": [
    {
     "data": {
      "text/html": [
       "<div>\n",
       "<style scoped>\n",
       "    .dataframe tbody tr th:only-of-type {\n",
       "        vertical-align: middle;\n",
       "    }\n",
       "\n",
       "    .dataframe tbody tr th {\n",
       "        vertical-align: top;\n",
       "    }\n",
       "\n",
       "    .dataframe thead th {\n",
       "        text-align: right;\n",
       "    }\n",
       "</style>\n",
       "<table border=\"1\" class=\"dataframe\">\n",
       "  <thead>\n",
       "    <tr style=\"text-align: right;\">\n",
       "      <th></th>\n",
       "      <th>age</th>\n",
       "      <th>sex</th>\n",
       "      <th>cp</th>\n",
       "      <th>chol</th>\n",
       "      <th>trestbps</th>\n",
       "      <th>fbs</th>\n",
       "      <th>restecg</th>\n",
       "      <th>thalach</th>\n",
       "      <th>exang</th>\n",
       "      <th>olddek</th>\n",
       "      <th>slope</th>\n",
       "      <th>ca</th>\n",
       "      <th>thal</th>\n",
       "    </tr>\n",
       "  </thead>\n",
       "  <tbody>\n",
       "    <tr>\n",
       "      <th>258</th>\n",
       "      <td>70.0</td>\n",
       "      <td>1.0</td>\n",
       "      <td>2.0</td>\n",
       "      <td>156.0</td>\n",
       "      <td>245.0</td>\n",
       "      <td>0.0</td>\n",
       "      <td>2.0</td>\n",
       "      <td>143.0</td>\n",
       "      <td>0.0</td>\n",
       "      <td>0.0</td>\n",
       "      <td>1.0</td>\n",
       "      <td>0.0</td>\n",
       "      <td>3.0</td>\n",
       "    </tr>\n",
       "    <tr>\n",
       "      <th>184</th>\n",
       "      <td>60.0</td>\n",
       "      <td>0.0</td>\n",
       "      <td>4.0</td>\n",
       "      <td>158.0</td>\n",
       "      <td>305.0</td>\n",
       "      <td>0.0</td>\n",
       "      <td>2.0</td>\n",
       "      <td>161.0</td>\n",
       "      <td>0.0</td>\n",
       "      <td>0.0</td>\n",
       "      <td>1.0</td>\n",
       "      <td>0.0</td>\n",
       "      <td>3.0</td>\n",
       "    </tr>\n",
       "    <tr>\n",
       "      <th>196</th>\n",
       "      <td>69.0</td>\n",
       "      <td>1.0</td>\n",
       "      <td>1.0</td>\n",
       "      <td>160.0</td>\n",
       "      <td>234.0</td>\n",
       "      <td>1.0</td>\n",
       "      <td>2.0</td>\n",
       "      <td>131.0</td>\n",
       "      <td>0.0</td>\n",
       "      <td>0.1</td>\n",
       "      <td>2.0</td>\n",
       "      <td>1.0</td>\n",
       "      <td>3.0</td>\n",
       "    </tr>\n",
       "    <tr>\n",
       "      <th>54</th>\n",
       "      <td>60.0</td>\n",
       "      <td>1.0</td>\n",
       "      <td>4.0</td>\n",
       "      <td>130.0</td>\n",
       "      <td>253.0</td>\n",
       "      <td>0.0</td>\n",
       "      <td>0.0</td>\n",
       "      <td>144.0</td>\n",
       "      <td>1.0</td>\n",
       "      <td>1.4</td>\n",
       "      <td>1.0</td>\n",
       "      <td>1.0</td>\n",
       "      <td>7.0</td>\n",
       "    </tr>\n",
       "    <tr>\n",
       "      <th>169</th>\n",
       "      <td>45.0</td>\n",
       "      <td>0.0</td>\n",
       "      <td>2.0</td>\n",
       "      <td>112.0</td>\n",
       "      <td>160.0</td>\n",
       "      <td>0.0</td>\n",
       "      <td>0.0</td>\n",
       "      <td>138.0</td>\n",
       "      <td>0.0</td>\n",
       "      <td>0.0</td>\n",
       "      <td>2.0</td>\n",
       "      <td>0.0</td>\n",
       "      <td>3.0</td>\n",
       "    </tr>\n",
       "  </tbody>\n",
       "</table>\n",
       "</div>"
      ],
      "text/plain": [
       "      age  sex   cp   chol  trestbps  fbs restecg  thalach  exang  olddek  \\\n",
       "258  70.0  1.0  2.0  156.0     245.0  0.0     2.0    143.0    0.0     0.0   \n",
       "184  60.0  0.0  4.0  158.0     305.0  0.0     2.0    161.0    0.0     0.0   \n",
       "196  69.0  1.0  1.0  160.0     234.0  1.0     2.0    131.0    0.0     0.1   \n",
       "54   60.0  1.0  4.0  130.0     253.0  0.0     0.0    144.0    1.0     1.4   \n",
       "169  45.0  0.0  2.0  112.0     160.0  0.0     0.0    138.0    0.0     0.0   \n",
       "\n",
       "    slope   ca thal  \n",
       "258   1.0  0.0  3.0  \n",
       "184   1.0  0.0  3.0  \n",
       "196   2.0  1.0  3.0  \n",
       "54    1.0  1.0  7.0  \n",
       "169   2.0  0.0  3.0  "
      ]
     },
     "execution_count": 17,
     "metadata": {},
     "output_type": "execute_result"
    }
   ],
   "source": [
    "X.head()"
   ]
  },
  {
   "cell_type": "markdown",
   "metadata": {},
   "source": [
    "from numpy import array\n",
    "from numpy import argmax\n",
    "from sklearn.preprocessing import LabelEncoder\n",
    "from sklearn.preprocessing import OneHotEncoder"
   ]
  },
  {
   "cell_type": "markdown",
   "metadata": {},
   "source": [
    "# integer encode\n",
    "label_encoder = LabelEncoder()\n",
    "integer_encoded = label_encoder.fit_transform(Y)\n",
    "print(integer_encoded)"
   ]
  },
  {
   "cell_type": "markdown",
   "metadata": {},
   "source": [
    "# binary encode\n",
    "onehot_encoder = OneHotEncoder(sparse=False)\n",
    "integer_encoded = integer_encoded.reshape(len(integer_encoded), 1)\n",
    "labels = onehot_encoder.fit_transform(integer_encoded)\n",
    "print(labels)"
   ]
  },
  {
   "cell_type": "markdown",
   "metadata": {},
   "source": [
    "print(df.shape)\n",
    "print(X.shape)\n",
    "print(labels.shape)\n"
   ]
  },
  {
   "cell_type": "code",
   "execution_count": 18,
   "metadata": {},
   "outputs": [
    {
     "name": "stdout",
     "output_type": "stream",
     "text": [
      "               cp        chol    trestbps     thalach       exang      olddek\n",
      "count  297.000000  297.000000  297.000000  297.000000  297.000000  297.000000\n",
      "mean     3.158249  131.693603  247.350168  149.599327    0.326599    1.055556\n",
      "std      0.964859   17.762806   51.997583   22.941562    0.469761    1.166123\n",
      "min      1.000000   94.000000  126.000000   71.000000    0.000000    0.000000\n",
      "25%      3.000000  120.000000  211.000000  133.000000    0.000000    0.000000\n",
      "50%      3.000000  130.000000  243.000000  153.000000    0.000000    0.800000\n",
      "75%      4.000000  140.000000  276.000000  166.000000    1.000000    1.600000\n",
      "max      4.000000  200.000000  564.000000  202.000000    1.000000    6.200000\n"
     ]
    }
   ],
   "source": [
    "print(df.describe()) # I have to check again after the 0-1 transformation \n"
   ]
  },
  {
   "cell_type": "code",
   "execution_count": 19,
   "metadata": {},
   "outputs": [
    {
     "name": "stdout",
     "output_type": "stream",
     "text": [
      "category\n"
     ]
    }
   ],
   "source": [
    "#print(X.dtypes) #all loks fine since they are all integers: All float which is good1\n",
    "print(Y.dtypes)"
   ]
  },
  {
   "cell_type": "code",
   "execution_count": 20,
   "metadata": {},
   "outputs": [],
   "source": [
    "# examining COLLINEARITY:\n",
    "import seaborn as sns\n",
    "\n",
    "#lets have a look the relationship among variables:\n",
    "corr_X = X.corr()\n",
    "\n",
    "# Generate a mask for the upper triangle\n",
    "mask = np.zeros_like(corr_X, dtype=np.bool)\n",
    "mask[np.triu_indices_from(mask)] = True # Triangule or square"
   ]
  },
  {
   "cell_type": "code",
   "execution_count": 21,
   "metadata": {},
   "outputs": [
    {
     "data": {
      "image/png": "[encoded data removed]",
      "text/plain": [
       "<Figure size 720x720 with 2 Axes>"
      ]
     },
     "metadata": {
      "needs_background": "light"
     },
     "output_type": "display_data"
    }
   ],
   "source": [
    "f, ax = plt.subplots(figsize=(10, 10))\n",
    "# Generate a custom diverging colormap\n",
    "cmap = sns.diverging_palette(220, 10, as_cmap=True)\n",
    "# Draw the heatmap with the mask and correct aspect ratio\n",
    "sns.heatmap(corr_X, mask=mask, cmap=cmap, vmax=.3, center=0,\n",
    "            square=True, linewidths=.5, cbar_kws={\"shrink\": .5})\n",
    "plt.title('Correlations between different predictors')\n",
    "plt.show()"
   ]
  },
  {
   "cell_type": "code",
   "execution_count": 22,
   "metadata": {},
   "outputs": [
    {
     "data": {
      "text/html": [
       "<div>\n",
       "<style scoped>\n",
       "    .dataframe tbody tr th:only-of-type {\n",
       "        vertical-align: middle;\n",
       "    }\n",
       "\n",
       "    .dataframe tbody tr th {\n",
       "        vertical-align: top;\n",
       "    }\n",
       "\n",
       "    .dataframe thead th {\n",
       "        text-align: right;\n",
       "    }\n",
       "</style>\n",
       "<table border=\"1\" class=\"dataframe\">\n",
       "  <thead>\n",
       "    <tr style=\"text-align: right;\">\n",
       "      <th></th>\n",
       "      <th>cp</th>\n",
       "      <th>chol</th>\n",
       "      <th>trestbps</th>\n",
       "      <th>thalach</th>\n",
       "      <th>exang</th>\n",
       "      <th>olddek</th>\n",
       "    </tr>\n",
       "  </thead>\n",
       "  <tbody>\n",
       "    <tr>\n",
       "      <th>count</th>\n",
       "      <td>297.000000</td>\n",
       "      <td>297.000000</td>\n",
       "      <td>297.000000</td>\n",
       "      <td>297.000000</td>\n",
       "      <td>297.000000</td>\n",
       "      <td>297.000000</td>\n",
       "    </tr>\n",
       "    <tr>\n",
       "      <th>mean</th>\n",
       "      <td>3.158249</td>\n",
       "      <td>131.693603</td>\n",
       "      <td>247.350168</td>\n",
       "      <td>149.599327</td>\n",
       "      <td>0.326599</td>\n",
       "      <td>1.055556</td>\n",
       "    </tr>\n",
       "    <tr>\n",
       "      <th>std</th>\n",
       "      <td>0.964859</td>\n",
       "      <td>17.762806</td>\n",
       "      <td>51.997583</td>\n",
       "      <td>22.941562</td>\n",
       "      <td>0.469761</td>\n",
       "      <td>1.166123</td>\n",
       "    </tr>\n",
       "    <tr>\n",
       "      <th>min</th>\n",
       "      <td>1.000000</td>\n",
       "      <td>94.000000</td>\n",
       "      <td>126.000000</td>\n",
       "      <td>71.000000</td>\n",
       "      <td>0.000000</td>\n",
       "      <td>0.000000</td>\n",
       "    </tr>\n",
       "    <tr>\n",
       "      <th>25%</th>\n",
       "      <td>3.000000</td>\n",
       "      <td>120.000000</td>\n",
       "      <td>211.000000</td>\n",
       "      <td>133.000000</td>\n",
       "      <td>0.000000</td>\n",
       "      <td>0.000000</td>\n",
       "    </tr>\n",
       "    <tr>\n",
       "      <th>50%</th>\n",
       "      <td>3.000000</td>\n",
       "      <td>130.000000</td>\n",
       "      <td>243.000000</td>\n",
       "      <td>153.000000</td>\n",
       "      <td>0.000000</td>\n",
       "      <td>0.800000</td>\n",
       "    </tr>\n",
       "    <tr>\n",
       "      <th>75%</th>\n",
       "      <td>4.000000</td>\n",
       "      <td>140.000000</td>\n",
       "      <td>276.000000</td>\n",
       "      <td>166.000000</td>\n",
       "      <td>1.000000</td>\n",
       "      <td>1.600000</td>\n",
       "    </tr>\n",
       "    <tr>\n",
       "      <th>max</th>\n",
       "      <td>4.000000</td>\n",
       "      <td>200.000000</td>\n",
       "      <td>564.000000</td>\n",
       "      <td>202.000000</td>\n",
       "      <td>1.000000</td>\n",
       "      <td>6.200000</td>\n",
       "    </tr>\n",
       "  </tbody>\n",
       "</table>\n",
       "</div>"
      ],
      "text/plain": [
       "               cp        chol    trestbps     thalach       exang      olddek\n",
       "count  297.000000  297.000000  297.000000  297.000000  297.000000  297.000000\n",
       "mean     3.158249  131.693603  247.350168  149.599327    0.326599    1.055556\n",
       "std      0.964859   17.762806   51.997583   22.941562    0.469761    1.166123\n",
       "min      1.000000   94.000000  126.000000   71.000000    0.000000    0.000000\n",
       "25%      3.000000  120.000000  211.000000  133.000000    0.000000    0.000000\n",
       "50%      3.000000  130.000000  243.000000  153.000000    0.000000    0.800000\n",
       "75%      4.000000  140.000000  276.000000  166.000000    1.000000    1.600000\n",
       "max      4.000000  200.000000  564.000000  202.000000    1.000000    6.200000"
      ]
     },
     "execution_count": 22,
     "metadata": {},
     "output_type": "execute_result"
    }
   ],
   "source": [
    "X.describe()"
   ]
  },
  {
   "cell_type": "code",
   "execution_count": 23,
   "metadata": {},
   "outputs": [
    {
     "data": {
      "text/plain": [
       "age         category\n",
       "sex         category\n",
       "cp           float64\n",
       "chol         float64\n",
       "trestbps     float64\n",
       "fbs         category\n",
       "restecg     category\n",
       "thalach      float64\n",
       "exang        float64\n",
       "olddek       float64\n",
       "slope       category\n",
       "ca          category\n",
       "thal        category\n",
       "dtype: object"
      ]
     },
     "execution_count": 23,
     "metadata": {},
     "output_type": "execute_result"
    }
   ],
   "source": [
    "X.dtypes"
   ]
  },
  {
   "cell_type": "code",
   "execution_count": 25,
   "metadata": {},
   "outputs": [],
   "source": [
    "#SPLITTING DATA\n",
    "from sklearn.model_selection import train_test_split\n",
    "X_train, X_test, y_train, y_test = train_test_split(X, Y, test_size=0.20)"
   ]
  },
  {
   "cell_type": "code",
   "execution_count": 27,
   "metadata": {},
   "outputs": [
    {
     "name": "stdout",
     "output_type": "stream",
     "text": [
      "(237, 13)\n",
      "(60, 13)\n",
      "(237,)\n",
      "(60,)\n"
     ]
    }
   ],
   "source": [
    "print(X_train.shape)\n",
    "print(X_test.shape)\n",
    "print(y_train.shape)\n",
    "print(y_test.shape)"
   ]
  },
  {
   "cell_type": "code",
   "execution_count": 29,
   "metadata": {},
   "outputs": [],
   "source": [
    "import tensorflow as tf"
   ]
  },
  {
   "cell_type": "code",
   "execution_count": 30,
   "metadata": {},
   "outputs": [
    {
     "name": "stdout",
     "output_type": "stream",
     "text": [
      "<class 'pandas.core.frame.DataFrame'>\n",
      "<class 'pandas.core.series.Series'>\n",
      "<class 'pandas.core.series.Series'>\n",
      "<class 'pandas.core.series.Series'>\n"
     ]
    }
   ],
   "source": [
    "print(type(X_train))\n",
    "print(type(y_train))\n",
    "print(type(y_train))\n",
    "print(type(y_test))"
   ]
  },
  {
   "cell_type": "code",
   "execution_count": 31,
   "metadata": {},
   "outputs": [
    {
     "name": "stdout",
     "output_type": "stream",
     "text": [
      "<class 'numpy.ndarray'>\n"
     ]
    },
    {
     "data": {
      "text/plain": [
       "(237, 13)"
      ]
     },
     "execution_count": 31,
     "metadata": {},
     "output_type": "execute_result"
    }
   ],
   "source": [
    "X_train_np = X_train.values\n",
    "print(type(X_train_np))\n",
    "X_train_np.shape"
   ]
  },
  {
   "cell_type": "code",
   "execution_count": 38,
   "metadata": {},
   "outputs": [
    {
     "ename": "AttributeError",
     "evalue": "'DataFrame' object has no attribute 'train_np'",
     "output_type": "error",
     "traceback": [
      "\u001b[0;31m---------------------------------------------------------------------------\u001b[0m",
      "\u001b[0;31mAttributeError\u001b[0m                            Traceback (most recent call last)",
      "\u001b[0;32m<ipython-input-38-41c220b943f7>\u001b[0m in \u001b[0;36m<module>\u001b[0;34m\u001b[0m\n\u001b[0;32m----> 1\u001b[0;31m \u001b[0mX\u001b[0m\u001b[0;34m.\u001b[0m\u001b[0mtrain_np\u001b[0m\u001b[0;34m.\u001b[0m\u001b[0mshape\u001b[0m\u001b[0;34m\u001b[0m\u001b[0;34m\u001b[0m\u001b[0m\n\u001b[0m",
      "\u001b[0;32m~/anaconda3/lib/python3.7/site-packages/pandas/core/generic.py\u001b[0m in \u001b[0;36m__getattr__\u001b[0;34m(self, name)\u001b[0m\n\u001b[1;32m   5065\u001b[0m             \u001b[0;32mif\u001b[0m \u001b[0mself\u001b[0m\u001b[0;34m.\u001b[0m\u001b[0m_info_axis\u001b[0m\u001b[0;34m.\u001b[0m\u001b[0m_can_hold_identifiers_and_holds_name\u001b[0m\u001b[0;34m(\u001b[0m\u001b[0mname\u001b[0m\u001b[0;34m)\u001b[0m\u001b[0;34m:\u001b[0m\u001b[0;34m\u001b[0m\u001b[0;34m\u001b[0m\u001b[0m\n\u001b[1;32m   5066\u001b[0m                 \u001b[0;32mreturn\u001b[0m \u001b[0mself\u001b[0m\u001b[0;34m[\u001b[0m\u001b[0mname\u001b[0m\u001b[0;34m]\u001b[0m\u001b[0;34m\u001b[0m\u001b[0;34m\u001b[0m\u001b[0m\n\u001b[0;32m-> 5067\u001b[0;31m             \u001b[0;32mreturn\u001b[0m \u001b[0mobject\u001b[0m\u001b[0;34m.\u001b[0m\u001b[0m__getattribute__\u001b[0m\u001b[0;34m(\u001b[0m\u001b[0mself\u001b[0m\u001b[0;34m,\u001b[0m \u001b[0mname\u001b[0m\u001b[0;34m)\u001b[0m\u001b[0;34m\u001b[0m\u001b[0;34m\u001b[0m\u001b[0m\n\u001b[0m\u001b[1;32m   5068\u001b[0m \u001b[0;34m\u001b[0m\u001b[0m\n\u001b[1;32m   5069\u001b[0m     \u001b[0;32mdef\u001b[0m \u001b[0m__setattr__\u001b[0m\u001b[0;34m(\u001b[0m\u001b[0mself\u001b[0m\u001b[0;34m,\u001b[0m \u001b[0mname\u001b[0m\u001b[0;34m,\u001b[0m \u001b[0mvalue\u001b[0m\u001b[0;34m)\u001b[0m\u001b[0;34m:\u001b[0m\u001b[0;34m\u001b[0m\u001b[0;34m\u001b[0m\u001b[0m\n",
      "\u001b[0;31mAttributeError\u001b[0m: 'DataFrame' object has no attribute 'train_np'"
     ]
    }
   ],
   "source": [
    "X.train_np.shape"
   ]
  },
  {
   "cell_type": "code",
   "execution_count": 39,
   "metadata": {},
   "outputs": [],
   "source": [
    "# The actual NN\n",
    "model = tf.keras.models.Sequential([\n",
    "  tf.keras.layers.Dense(5, input_shape=(X_train_np.shape[1],), activation='relu'),\n",
    "  tf.keras.layers.Dense(20, activation='relu'),\n",
    "  tf.keras.layers.Dropout(0.5),\n",
    "  tf.keras.layers.Dense(1, activation='sigmoid')\n",
    "])"
   ]
  },
  {
   "cell_type": "code",
   "execution_count": 40,
   "metadata": {},
   "outputs": [],
   "source": [
    "model.compile(optimizer= 'rmsprop', # 'adam',\n",
    "              loss= 'binary_crossentropy',#'sparse_categorical_crossentropy',\n",
    "              metrics=['accuracy'])\n"
   ]
  },
  {
   "cell_type": "code",
   "execution_count": 42,
   "metadata": {},
   "outputs": [
    {
     "name": "stdout",
     "output_type": "stream",
     "text": [
      "Epoch 1/100\n",
      "237/237 [==============================] - 0s 297us/sample - loss: 16.0920 - acc: 0.5443\n",
      "Epoch 2/100\n",
      "237/237 [==============================] - 0s 265us/sample - loss: 22.0291 - acc: 0.4895\n",
      "Epoch 3/100\n",
      "237/237 [==============================] - 0s 356us/sample - loss: 14.2812 - acc: 0.4768\n",
      "Epoch 4/100\n",
      "237/237 [==============================] - 0s 204us/sample - loss: 13.7598 - acc: 0.5148\n",
      "Epoch 5/100\n",
      "237/237 [==============================] - 0s 200us/sample - loss: 12.4258 - acc: 0.5232\n",
      "Epoch 6/100\n",
      "237/237 [==============================] - 0s 283us/sample - loss: 9.6575 - acc: 0.5612\n",
      "Epoch 7/100\n",
      "237/237 [==============================] - 0s 196us/sample - loss: 10.4072 - acc: 0.4979\n",
      "Epoch 8/100\n",
      "237/237 [==============================] - 0s 431us/sample - loss: 8.1891 - acc: 0.5949\n",
      "Epoch 9/100\n",
      "237/237 [==============================] - 0s 343us/sample - loss: 5.7079 - acc: 0.5612\n",
      "Epoch 10/100\n",
      "237/237 [==============================] - 0s 391us/sample - loss: 6.3689 - acc: 0.5316\n",
      "Epoch 11/100\n",
      "237/237 [==============================] - 0s 347us/sample - loss: 5.4304 - acc: 0.5401\n",
      "Epoch 12/100\n",
      "237/237 [==============================] - 0s 344us/sample - loss: 4.3877 - acc: 0.5274\n",
      "Epoch 13/100\n",
      "237/237 [==============================] - 0s 255us/sample - loss: 5.1581 - acc: 0.5021\n",
      "Epoch 14/100\n",
      "237/237 [==============================] - 0s 330us/sample - loss: 3.6581 - acc: 0.5485\n",
      "Epoch 15/100\n",
      "237/237 [==============================] - 0s 220us/sample - loss: 3.3492 - acc: 0.5190\n",
      "Epoch 16/100\n",
      "237/237 [==============================] - 0s 348us/sample - loss: 2.6142 - acc: 0.5823\n",
      "Epoch 17/100\n",
      "237/237 [==============================] - 0s 819us/sample - loss: 2.0635 - acc: 0.5823\n",
      "Epoch 18/100\n",
      "237/237 [==============================] - 0s 484us/sample - loss: 2.2251 - acc: 0.5907\n",
      "Epoch 19/100\n",
      "237/237 [==============================] - 0s 359us/sample - loss: 1.6468 - acc: 0.5907\n",
      "Epoch 20/100\n",
      "237/237 [==============================] - 0s 274us/sample - loss: 1.3042 - acc: 0.6371\n",
      "Epoch 21/100\n",
      "237/237 [==============================] - 0s 317us/sample - loss: 1.2710 - acc: 0.5992\n",
      "Epoch 22/100\n",
      "237/237 [==============================] - 0s 326us/sample - loss: 1.0584 - acc: 0.6203\n",
      "Epoch 23/100\n",
      "237/237 [==============================] - 0s 234us/sample - loss: 0.9574 - acc: 0.5865\n",
      "Epoch 24/100\n",
      "237/237 [==============================] - 0s 360us/sample - loss: 0.8492 - acc: 0.5907\n",
      "Epoch 25/100\n",
      "237/237 [==============================] - 0s 330us/sample - loss: 0.7558 - acc: 0.5907\n",
      "Epoch 26/100\n",
      "237/237 [==============================] - 0s 354us/sample - loss: 0.7530 - acc: 0.5992\n",
      "Epoch 27/100\n",
      "237/237 [==============================] - 0s 755us/sample - loss: 0.6950 - acc: 0.6245\n",
      "Epoch 28/100\n",
      "237/237 [==============================] - 0s 497us/sample - loss: 0.6978 - acc: 0.5654\n",
      "Epoch 29/100\n",
      "237/237 [==============================] - 0s 357us/sample - loss: 0.6574 - acc: 0.6118\n",
      "Epoch 30/100\n",
      "237/237 [==============================] - 0s 293us/sample - loss: 0.6701 - acc: 0.5781\n",
      "Epoch 31/100\n",
      "237/237 [==============================] - 0s 399us/sample - loss: 0.6494 - acc: 0.5865\n",
      "Epoch 32/100\n",
      "237/237 [==============================] - 0s 392us/sample - loss: 0.6327 - acc: 0.6203\n",
      "Epoch 33/100\n",
      "237/237 [==============================] - 0s 320us/sample - loss: 0.6558 - acc: 0.5359\n",
      "Epoch 34/100\n",
      "237/237 [==============================] - 0s 261us/sample - loss: 0.6389 - acc: 0.6203\n",
      "Epoch 35/100\n",
      "237/237 [==============================] - 0s 339us/sample - loss: 0.6382 - acc: 0.5907\n",
      "Epoch 36/100\n",
      "237/237 [==============================] - 0s 549us/sample - loss: 0.6294 - acc: 0.6329\n",
      "Epoch 37/100\n",
      "237/237 [==============================] - 0s 492us/sample - loss: 0.6207 - acc: 0.6160\n",
      "Epoch 38/100\n",
      "237/237 [==============================] - 0s 374us/sample - loss: 0.6120 - acc: 0.6371\n",
      "Epoch 39/100\n",
      "237/237 [==============================] - 0s 380us/sample - loss: 0.6403 - acc: 0.6371\n",
      "Epoch 40/100\n",
      "237/237 [==============================] - 0s 324us/sample - loss: 0.6167 - acc: 0.5907\n",
      "Epoch 41/100\n",
      "237/237 [==============================] - 0s 345us/sample - loss: 0.6275 - acc: 0.6329\n",
      "Epoch 42/100\n",
      "237/237 [==============================] - 0s 272us/sample - loss: 0.6195 - acc: 0.6160\n",
      "Epoch 43/100\n",
      "237/237 [==============================] - 0s 344us/sample - loss: 0.6183 - acc: 0.6456\n",
      "Epoch 44/100\n",
      "237/237 [==============================] - 0s 319us/sample - loss: 0.6271 - acc: 0.6371\n",
      "Epoch 45/100\n",
      "237/237 [==============================] - 0s 307us/sample - loss: 0.6260 - acc: 0.6371\n",
      "Epoch 46/100\n",
      "237/237 [==============================] - 0s 533us/sample - loss: 0.6423 - acc: 0.5992\n",
      "Epoch 47/100\n",
      "237/237 [==============================] - 0s 560us/sample - loss: 0.6638 - acc: 0.5865\n",
      "Epoch 48/100\n",
      "237/237 [==============================] - 0s 657us/sample - loss: 0.6226 - acc: 0.6667\n",
      "Epoch 49/100\n",
      "237/237 [==============================] - 0s 247us/sample - loss: 0.6192 - acc: 0.6414\n",
      "Epoch 50/100\n",
      "237/237 [==============================] - 0s 346us/sample - loss: 0.6124 - acc: 0.6329\n",
      "Epoch 51/100\n",
      "237/237 [==============================] - 0s 356us/sample - loss: 0.6296 - acc: 0.6076\n",
      "Epoch 52/100\n",
      "237/237 [==============================] - 0s 427us/sample - loss: 0.6289 - acc: 0.5781\n",
      "Epoch 53/100\n",
      "237/237 [==============================] - 0s 288us/sample - loss: 0.6165 - acc: 0.6245\n",
      "Epoch 54/100\n",
      "237/237 [==============================] - 0s 344us/sample - loss: 0.6153 - acc: 0.6540\n",
      "Epoch 55/100\n",
      "237/237 [==============================] - 0s 465us/sample - loss: 0.6171 - acc: 0.6287\n",
      "Epoch 56/100\n",
      "237/237 [==============================] - 0s 341us/sample - loss: 0.6399 - acc: 0.5992\n",
      "Epoch 57/100\n",
      "237/237 [==============================] - 0s 334us/sample - loss: 0.6188 - acc: 0.6414\n",
      "Epoch 58/100\n",
      "237/237 [==============================] - 0s 221us/sample - loss: 0.6081 - acc: 0.6498\n",
      "Epoch 59/100\n",
      "237/237 [==============================] - 0s 356us/sample - loss: 0.6163 - acc: 0.6076\n",
      "Epoch 60/100\n",
      "237/237 [==============================] - 0s 211us/sample - loss: 0.6107 - acc: 0.6540\n",
      "Epoch 61/100\n",
      "237/237 [==============================] - 0s 266us/sample - loss: 0.5849 - acc: 0.6582\n",
      "Epoch 62/100\n",
      "237/237 [==============================] - 0s 297us/sample - loss: 0.6122 - acc: 0.6456\n",
      "Epoch 63/100\n",
      "237/237 [==============================] - 0s 277us/sample - loss: 0.6303 - acc: 0.6118\n",
      "Epoch 64/100\n",
      "237/237 [==============================] - 0s 282us/sample - loss: 0.6237 - acc: 0.6203\n",
      "Epoch 65/100\n",
      "237/237 [==============================] - 0s 352us/sample - loss: 0.5992 - acc: 0.6582\n",
      "Epoch 66/100\n",
      "237/237 [==============================] - 0s 319us/sample - loss: 0.5898 - acc: 0.6498\n",
      "Epoch 67/100\n",
      "237/237 [==============================] - 0s 246us/sample - loss: 0.5987 - acc: 0.6751\n",
      "Epoch 68/100\n",
      "237/237 [==============================] - 0s 288us/sample - loss: 0.6183 - acc: 0.6456\n",
      "Epoch 69/100\n",
      "237/237 [==============================] - 0s 274us/sample - loss: 0.6396 - acc: 0.6203\n",
      "Epoch 70/100\n",
      "237/237 [==============================] - 0s 403us/sample - loss: 0.6158 - acc: 0.6540\n",
      "Epoch 71/100\n",
      "237/237 [==============================] - 0s 312us/sample - loss: 0.5979 - acc: 0.6540\n",
      "Epoch 72/100\n",
      "237/237 [==============================] - 0s 249us/sample - loss: 0.6158 - acc: 0.6624\n",
      "Epoch 73/100\n",
      "237/237 [==============================] - 0s 261us/sample - loss: 0.6033 - acc: 0.6624\n",
      "Epoch 74/100\n",
      "237/237 [==============================] - 0s 229us/sample - loss: 0.6024 - acc: 0.6329\n",
      "Epoch 75/100\n",
      "237/237 [==============================] - 0s 256us/sample - loss: 0.5834 - acc: 0.6878\n",
      "Epoch 76/100\n",
      "237/237 [==============================] - 0s 208us/sample - loss: 0.5955 - acc: 0.6751\n",
      "Epoch 77/100\n",
      "237/237 [==============================] - 0s 270us/sample - loss: 0.5904 - acc: 0.6878\n",
      "Epoch 78/100\n",
      "237/237 [==============================] - 0s 342us/sample - loss: 0.5902 - acc: 0.6962\n",
      "Epoch 79/100\n",
      "237/237 [==============================] - 0s 238us/sample - loss: 0.6108 - acc: 0.6582\n",
      "Epoch 80/100\n",
      "237/237 [==============================] - 0s 241us/sample - loss: 0.6104 - acc: 0.6456\n",
      "Epoch 81/100\n",
      "237/237 [==============================] - 0s 215us/sample - loss: 0.5777 - acc: 0.6878\n",
      "Epoch 82/100\n"
     ]
    },
    {
     "name": "stdout",
     "output_type": "stream",
     "text": [
      "237/237 [==============================] - 0s 187us/sample - loss: 0.5966 - acc: 0.6203\n",
      "Epoch 83/100\n",
      "237/237 [==============================] - 0s 292us/sample - loss: 0.6194 - acc: 0.6456\n",
      "Epoch 84/100\n",
      "237/237 [==============================] - 0s 301us/sample - loss: 0.6041 - acc: 0.6793\n",
      "Epoch 85/100\n",
      "237/237 [==============================] - 0s 318us/sample - loss: 0.5930 - acc: 0.6624\n",
      "Epoch 86/100\n",
      "237/237 [==============================] - 0s 288us/sample - loss: 0.5761 - acc: 0.6709\n",
      "Epoch 87/100\n",
      "237/237 [==============================] - 0s 225us/sample - loss: 0.6092 - acc: 0.6498\n",
      "Epoch 88/100\n",
      "237/237 [==============================] - 0s 321us/sample - loss: 0.5906 - acc: 0.6624\n",
      "Epoch 89/100\n",
      "237/237 [==============================] - 0s 222us/sample - loss: 0.5922 - acc: 0.6329\n",
      "Epoch 90/100\n",
      "237/237 [==============================] - 0s 236us/sample - loss: 0.5949 - acc: 0.6498\n",
      "Epoch 91/100\n",
      "237/237 [==============================] - 0s 236us/sample - loss: 0.5975 - acc: 0.6751\n",
      "Epoch 92/100\n",
      "237/237 [==============================] - 0s 241us/sample - loss: 0.5562 - acc: 0.7004\n",
      "Epoch 93/100\n",
      "237/237 [==============================] - 0s 238us/sample - loss: 0.5651 - acc: 0.6793\n",
      "Epoch 94/100\n",
      "237/237 [==============================] - 0s 237us/sample - loss: 0.5769 - acc: 0.7173\n",
      "Epoch 95/100\n",
      "237/237 [==============================] - 0s 283us/sample - loss: 0.6040 - acc: 0.6498\n",
      "Epoch 96/100\n",
      "237/237 [==============================] - 0s 226us/sample - loss: 0.5892 - acc: 0.6287\n",
      "Epoch 97/100\n",
      "237/237 [==============================] - 0s 225us/sample - loss: 0.6173 - acc: 0.6160\n",
      "Epoch 98/100\n",
      "237/237 [==============================] - 0s 216us/sample - loss: 0.5881 - acc: 0.6624\n",
      "Epoch 99/100\n",
      "237/237 [==============================] - 0s 233us/sample - loss: 0.5884 - acc: 0.6667\n",
      "Epoch 100/100\n",
      "237/237 [==============================] - 0s 308us/sample - loss: 0.6089 - acc: 0.6203\n"
     ]
    },
    {
     "data": {
      "text/plain": [
       "<tensorflow.python.keras.callbacks.History at 0x7f9965c2e400>"
      ]
     },
     "execution_count": 42,
     "metadata": {},
     "output_type": "execute_result"
    }
   ],
   "source": [
    "model.fit(X_train_np, y_train, epochs=100, batch_size=20)"
   ]
  },
  {
   "cell_type": "code",
   "execution_count": null,
   "metadata": {},
   "outputs": [],
   "source": []
  }
 ],
 "metadata": {
  "kernelspec": {
   "display_name": "Python 3",
   "language": "python",
   "name": "python3"
  },
  "language_info": {
   "codemirror_mode": {
    "name": "ipython",
    "version": 3
   },
   "file_extension": ".py",
   "mimetype": "text/x-python",
   "name": "python",
   "nbconvert_exporter": "python",
   "pygments_lexer": "ipython3",
   "version": "3.7.3"
  }
 },
 "nbformat": 4,
 "nbformat_minor": 2
}
