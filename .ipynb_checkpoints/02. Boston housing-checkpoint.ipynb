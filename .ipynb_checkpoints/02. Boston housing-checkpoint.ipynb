{
 "cells": [
  {
   "cell_type": "markdown",
   "metadata": {},
   "source": [
    "# Boston housing: a regression example\n",
    "\n",
    "\n",
    "The objective is to predict the house price in a certain Boston suburb (in the 1970s)."
   ]
  },
  {
   "cell_type": "code",
   "execution_count": 1,
   "metadata": {},
   "outputs": [
    {
     "name": "stdout",
     "output_type": "stream",
     "text": [
      "Downloading data from https://storage.googleapis.com/tensorflow/tf-keras-datasets/boston_housing.npz\n",
      "57344/57026 [==============================] - 0s 1us/step\n"
     ]
    }
   ],
   "source": [
    "# Download the data\n",
    "\n",
    "from tensorflow.keras.datasets import boston_housing\n",
    "\n",
    "(train_data, train_targets), (test_data, test_targets) = boston_housing.load_data()"
   ]
  },
  {
   "cell_type": "code",
   "execution_count": 2,
   "metadata": {},
   "outputs": [
    {
     "name": "stdout",
     "output_type": "stream",
     "text": [
      "404 training samples\n",
      "102 test samples\n"
     ]
    }
   ],
   "source": [
    "print(train_data.shape[0], 'training samples')\n",
    "print(test_data.shape[0], 'test samples')"
   ]
  },
  {
   "cell_type": "code",
   "execution_count": 3,
   "metadata": {},
   "outputs": [
    {
     "data": {
      "text/plain": [
       "numpy.ndarray"
      ]
     },
     "execution_count": 3,
     "metadata": {},
     "output_type": "execute_result"
    }
   ],
   "source": [
    "type(train_data) # Fucking Numpy!"
   ]
  },
  {
   "cell_type": "markdown",
   "metadata": {},
   "source": [
    "### Sample features (14 in total):\n",
    "\n",
    "        \n",
    "    CRIM - per capita crime rate by town\n",
    "    ZN - proportion of residential land zoned for lots over 25,000 sq.ft.\n",
    "    INDUS - proportion of non-retail business acres per town.\n",
    "    CHAS - Charles River dummy variable (1 if tract bounds river; 0 otherwise)\n",
    "    NOX - nitric oxides concentration (parts per 10 million)\n",
    "    RM - average number of rooms per dwelling\n",
    "    AGE - proportion of owner-occupied units built prior to 1940\n",
    "    DIS - weighted distances to five Boston employment centres\n",
    "    RAD - index of accessibility to radial highways\n",
    "    TAX - full-value property-tax rate per $10,000\n",
    "PTRATIO - pupil-teacher ratio by town\n",
    "B - 1000(Bk - 0.63)^2 where Bk is the proportion of blacks by town\n",
    "LSTAT - % lower status of the population\n",
    "MEDV - Median value of owner-occupied homes in $1000's"
   ]
  },
  {
   "cell_type": "code",
   "execution_count": 3,
   "metadata": {},
   "outputs": [
    {
     "name": "stdout",
     "output_type": "stream",
     "text": [
      "[  1.23247   0.        8.14      0.        0.538     6.142    91.7\n",
      "   3.9769    4.      307.       21.      396.9      18.72   ]\n",
      "15.2\n"
     ]
    }
   ],
   "source": [
    "print(train_data[0]) # features of the first training sample\n",
    "print(train_targets[0]) # target prize (in thousands of dollars) of the first training sample"
   ]
  },
  {
   "cell_type": "code",
   "execution_count": 4,
   "metadata": {},
   "outputs": [],
   "source": [
    "# Normalize the data and keep 300 samples for training (rest for validation)\n",
    "\n",
    "mean = train_data.mean(axis=0)\n",
    "train_data -= mean\n",
    "std = train_data.std(axis=0)\n",
    "train_data /= std\n",
    "test_data -= mean\n",
    "test_data /= std\n"
   ]
  },
  {
   "cell_type": "code",
   "execution_count": 6,
   "metadata": {},
   "outputs": [
    {
     "data": {
      "text/plain": [
       "(404, 13)"
      ]
     },
     "execution_count": 6,
     "metadata": {},
     "output_type": "execute_result"
    }
   ],
   "source": [
    "train_data.shape"
   ]
  },
  {
   "cell_type": "code",
   "execution_count": null,
   "metadata": {},
   "outputs": [],
   "source": [
    "partial_train_data = train_data[:300]\n",
    "partial_train_targets = train_targets[:300]\n",
    "val_data = train_data[300:]\n",
    "val_targets = train_targets[300:]"
   ]
  },
  {
   "cell_type": "code",
   "execution_count": 6,
   "metadata": {},
   "outputs": [],
   "source": [
    "# Build the model\n",
    "\n",
    "from tensorflow.keras.models import Sequential\n",
    "from tensorflow.keras.layers import Dense\n",
    "\n",
    "model = Sequential()\n",
    "model.add(Dense(64, activation='relu',\n",
    "            input_shape=(train_data.shape[1],)))\n",
    "model.add(Dense(64, activation='relu'))\n",
    "model.add(Dense(1))\n",
    "model.compile(optimizer='rmsprop', loss='mse', metrics=['mae'])"
   ]
  },
  {
   "cell_type": "code",
   "execution_count": 7,
   "metadata": {},
   "outputs": [],
   "source": [
    "# Train the model for 200 epochs\n",
    "\n",
    "history = model.fit(partial_train_data, partial_train_targets,\n",
    "                    epochs=200, batch_size=1, verbose=0,\n",
    "                    validation_data = (val_data, val_targets))"
   ]
  },
  {
   "cell_type": "code",
   "execution_count": 9,
   "metadata": {},
   "outputs": [
    {
     "name": "stdout",
     "output_type": "stream",
     "text": [
      "dict_keys(['loss', 'mean_absolute_error', 'val_loss', 'val_mean_absolute_error'])\n"
     ]
    },
    {
     "data": {
      "image/png": "[encoded data removed]",
      "text/plain": [
       "<Figure size 432x288 with 1 Axes>"
      ]
     },
     "metadata": {
      "needs_background": "light"
     },
     "output_type": "display_data"
    },
    {
     "data": {
      "image/png": "[encoded data removed]",
      "text/plain": [
       "<Figure size 432x288 with 1 Axes>"
      ]
     },
     "metadata": {
      "needs_background": "light"
     },
     "output_type": "display_data"
    }
   ],
   "source": [
    "# Plot the training + validation loss and mean absolute error\n",
    "\n",
    "import matplotlib.pyplot as plt\n",
    "\n",
    "print(history.history.keys())\n",
    "loss = history.history['loss']\n",
    "val_loss = history.history['val_loss']\n",
    "mae = history.history['mean_absolute_error']\n",
    "val_mae = history.history['val_mean_absolute_error']\n",
    "\n",
    "time = range(1,len(loss)+1)\n",
    "\n",
    "plt.plot(time, loss, 'b-')\n",
    "plt.plot(time, val_loss, 'r-')\n",
    "plt.xlabel('Epochs')\n",
    "plt.ylabel('Loss')\n",
    "plt.show()\n",
    "\n",
    "plt.plot(time, mae, 'b-')\n",
    "plt.plot(time, val_mae, 'r-')\n",
    "plt.xlabel('Epochs')\n",
    "plt.ylabel('MAE')\n",
    "plt.show()"
   ]
  },
  {
   "cell_type": "code",
   "execution_count": 10,
   "metadata": {},
   "outputs": [
    {
     "data": {
      "image/png": "[encoded data removed]",
      "text/plain": [
       "<Figure size 432x288 with 1 Axes>"
      ]
     },
     "metadata": {
      "needs_background": "light"
     },
     "output_type": "display_data"
    }
   ],
   "source": [
    "# Cut off the first few data points\n",
    "\n",
    "short_val_mae = val_mae[10:]\n",
    "\n",
    "plt.plot(range(1,len(short_val_mae)+1), short_val_mae, 'r-')\n",
    "plt.xlabel('Epochs')\n",
    "plt.ylabel('MAE')\n",
    "plt.show()"
   ]
  },
  {
   "cell_type": "code",
   "execution_count": 11,
   "metadata": {},
   "outputs": [
    {
     "data": {
      "image/png": "[encoded data removed]",
      "text/plain": [
       "<Figure size 432x288 with 1 Axes>"
      ]
     },
     "metadata": {
      "needs_background": "light"
     },
     "output_type": "display_data"
    }
   ],
   "source": [
    "# Smoothen the previous curve for clarity\n",
    "\n",
    "def smooth_curve(points, factor=0.9):\n",
    "    smoothed_points = []\n",
    "    for point in points:\n",
    "        if smoothed_points:\n",
    "            previous = smoothed_points[-1]\n",
    "            smoothed_points.append(previous * factor + point * (1 - factor))\n",
    "        else:\n",
    "            smoothed_points.append(point)\n",
    "    return smoothed_points\n",
    "\n",
    "smooth_val_mae = smooth_curve(val_mae[10:])\n",
    "\n",
    "plt.plot(range(1, len(smooth_val_mae) + 1), smooth_val_mae)\n",
    "plt.xlabel('Epochs')\n",
    "plt.ylabel('Validation MAE')\n",
    "plt.show()"
   ]
  },
  {
   "cell_type": "code",
   "execution_count": 13,
   "metadata": {},
   "outputs": [],
   "source": [
    "# Build a fresh model ...\n",
    "\n",
    "model = Sequential()\n",
    "model.add(Dense(64, activation='relu',\n",
    "                       input_shape=(train_data.shape[1],)))\n",
    "model.add(Dense(64, activation='relu'))\n",
    "model.add(Dense(1))\n",
    "model.compile(optimizer='rmsprop', loss='mse', metrics=['mae'])"
   ]
  },
  {
   "cell_type": "code",
   "execution_count": 14,
   "metadata": {},
   "outputs": [],
   "source": [
    "# ... and train it for a shorter time for less overfitting \n",
    "# (now with all the training data, including the samples previously used for validation)\n",
    "\n",
    "history = model.fit(train_data, train_targets,\n",
    "                    epochs=125, batch_size=1, verbose=0)"
   ]
  },
  {
   "cell_type": "code",
   "execution_count": 15,
   "metadata": {},
   "outputs": [
    {
     "name": "stdout",
     "output_type": "stream",
     "text": [
      "102/102 [==============================] - 0s 883us/sample - loss: 13.6762 - mean_absolute_error: 2.3635\n"
     ]
    }
   ],
   "source": [
    "# Test the model with new unseen data\n",
    "\n",
    "test_mse_score, test_mae_score = model.evaluate(test_data, test_targets)"
   ]
  },
  {
   "cell_type": "code",
   "execution_count": 17,
   "metadata": {},
   "outputs": [
    {
     "data": {
      "text/plain": [
       "2.3635457"
      ]
     },
     "execution_count": 17,
     "metadata": {},
     "output_type": "execute_result"
    }
   ],
   "source": [
    "# Mean average error of the test samples\n",
    "\n",
    "test_mae_score"
   ]
  },
  {
   "cell_type": "code",
   "execution_count": 18,
   "metadata": {},
   "outputs": [
    {
     "name": "stdout",
     "output_type": "stream",
     "text": [
      "7.2 [7.8871627]\n",
      "18.8 [18.272486]\n",
      "19.0 [19.690838]\n",
      "27.0 [33.49909]\n",
      "22.2 [24.379679]\n",
      "24.5 [23.59655]\n",
      "31.2 [28.789215]\n",
      "22.9 [22.56995]\n",
      "20.5 [19.062416]\n",
      "23.2 [22.74073]\n",
      "18.6 [23.28303]\n",
      "14.5 [17.83199]\n",
      "17.8 [15.245893]\n",
      "50.0 [45.092197]\n",
      "20.8 [21.44642]\n",
      "24.3 [22.026314]\n",
      "24.2 [25.674133]\n",
      "19.8 [20.337105]\n",
      "19.1 [18.72798]\n",
      "22.7 [25.29591]\n",
      "12.0 [12.168699]\n",
      "10.2 [10.025194]\n",
      "20.0 [19.553032]\n",
      "18.5 [17.887684]\n",
      "20.9 [22.185913]\n",
      "23.0 [22.656067]\n",
      "27.5 [28.832981]\n",
      "30.1 [27.482649]\n",
      "9.5 [12.798013]\n",
      "22.0 [21.966846]\n",
      "21.2 [19.757278]\n",
      "14.1 [18.6997]\n",
      "33.1 [34.206814]\n",
      "23.4 [24.491072]\n",
      "20.1 [18.907862]\n",
      "7.4 [7.056838]\n",
      "15.4 [18.127293]\n",
      "23.8 [14.176357]\n",
      "20.1 [17.750484]\n",
      "24.5 [27.97385]\n",
      "33.0 [31.568777]\n",
      "28.4 [27.480232]\n",
      "14.1 [12.278719]\n",
      "46.7 [43.54105]\n",
      "32.5 [30.677715]\n",
      "29.6 [27.867218]\n",
      "28.4 [27.783009]\n",
      "19.8 [19.253975]\n",
      "20.2 [23.539946]\n",
      "25.0 [23.634554]\n",
      "35.4 [35.0659]\n",
      "20.3 [21.992851]\n",
      "9.7 [10.358198]\n",
      "14.5 [12.593258]\n",
      "34.9 [37.16379]\n",
      "26.6 [28.37364]\n",
      "7.2 [10.8838005]\n",
      "50.0 [50.5018]\n",
      "32.4 [34.729404]\n",
      "21.6 [25.216862]\n",
      "29.8 [22.009407]\n",
      "13.1 [14.031805]\n",
      "27.5 [18.015352]\n",
      "21.2 [18.72393]\n",
      "23.1 [23.596907]\n",
      "21.9 [22.539738]\n",
      "13.0 [14.556149]\n",
      "23.2 [22.201502]\n",
      "8.1 [12.614766]\n",
      "5.6 [8.210174]\n",
      "21.7 [23.563984]\n",
      "29.6 [28.548725]\n",
      "19.6 [25.229574]\n",
      "7.0 [12.458356]\n",
      "26.4 [25.092094]\n",
      "18.9 [21.708408]\n",
      "20.9 [20.928417]\n",
      "28.1 [24.628452]\n",
      "35.4 [36.989063]\n",
      "10.2 [10.662197]\n",
      "24.3 [24.098661]\n",
      "43.1 [39.06035]\n",
      "17.6 [18.103241]\n",
      "15.4 [12.975828]\n",
      "16.2 [18.22437]\n",
      "27.1 [16.987951]\n",
      "21.4 [21.210651]\n",
      "21.5 [21.44119]\n",
      "22.4 [20.852175]\n",
      "25.0 [25.750233]\n",
      "16.6 [18.403265]\n",
      "18.6 [24.539183]\n",
      "22.0 [25.335838]\n",
      "42.8 [41.88586]\n",
      "35.1 [39.43279]\n",
      "21.5 [19.763193]\n",
      "36.0 [35.90377]\n",
      "21.9 [43.843502]\n",
      "24.1 [24.281658]\n",
      "50.0 [48.36392]\n",
      "26.7 [30.236565]\n",
      "25.0 [19.67706]\n"
     ]
    }
   ],
   "source": [
    "# Taking a look at test data predictions versus true targets\n",
    "\n",
    "results = model.predict(test_data)\n",
    "\n",
    "for i in range(len(results)):\n",
    "    print(test_targets[i], results[i])"
   ]
  },
  {
   "cell_type": "code",
   "execution_count": null,
   "metadata": {},
   "outputs": [],
   "source": []
  }
 ],
 "metadata": {
  "kernelspec": {
   "display_name": "Python 3",
   "language": "python",
   "name": "python3"
  },
  "language_info": {
   "codemirror_mode": {
    "name": "ipython",
    "version": 3
   },
   "file_extension": ".py",
   "mimetype": "text/x-python",
   "name": "python",
   "nbconvert_exporter": "python",
   "pygments_lexer": "ipython3",
   "version": "3.7.3"
  }
 },
 "nbformat": 4,
 "nbformat_minor": 2
}
