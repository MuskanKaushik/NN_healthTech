{
 "cells": [
  {
   "cell_type": "code",
   "execution_count": 1,
   "metadata": {
    "collapsed": true
   },
   "outputs": [],
   "source": [
    "# Name: Eliecer Diaz\n",
    "#student Number: 1706220\n",
    "\n",
    "import pandas as pd\n",
    "import numpy as np\n",
    "import arff\n",
    "\n",
    "import numpy as np\n",
    "import pandas as pd\n",
    "from sklearn import linear_model\n",
    "from sklearn.linear_model import LogisticRegression #<---------LOGISTIC REGRESSION\n",
    "from sklearn.preprocessing import StandardScaler\n",
    "import matplotlib.pyplot as plt"
   ]
  },
  {
   "cell_type": "code",
   "execution_count": 2,
   "metadata": {
    "collapsed": true
   },
   "outputs": [],
   "source": [
    "from sklearn.metrics import confusion_matrix\n",
    "from sklearn.metrics import classification_report\n",
    "from sklearn.model_selection import cross_val_score\n",
    "\n",
    "#https://towardsdatascience.com/building-a-logistic-regression-in-python-step-by-step-becd4d56c9c8"
   ]
  },
  {
   "cell_type": "code",
   "execution_count": 223,
   "metadata": {
    "collapsed": true
   },
   "outputs": [],
   "source": [
    "import warnings\n",
    "warnings.filterwarnings(\"ignore\")"
   ]
  },
  {
   "cell_type": "markdown",
   "metadata": {},
   "source": [
    "# READING ARFF FILE:"
   ]
  },
  {
   "cell_type": "code",
   "execution_count": 3,
   "metadata": {
    "collapsed": true
   },
   "outputs": [],
   "source": [
    "# Reading ARFF files\n",
    "fp = open('column_2C_weka.arff')\n",
    "testdata = arff.load(fp)"
   ]
  },
  {
   "cell_type": "markdown",
   "metadata": {},
   "source": [
    "# Exploration and formatting (Houskeeping)"
   ]
  },
  {
   "cell_type": "code",
   "execution_count": 4,
   "metadata": {
    "collapsed": true
   },
   "outputs": [],
   "source": [
    "# Transform arff data to pandas data frame:\n",
    "data = pd.DataFrame(testdata['data'])\n",
    "columns = pd.DataFrame(testdata['attributes'])"
   ]
  },
  {
   "cell_type": "code",
   "execution_count": 5,
   "metadata": {},
   "outputs": [
    {
     "data": {
      "text/plain": [
       "0    object\n",
       "1    object\n",
       "dtype: object"
      ]
     },
     "execution_count": 5,
     "metadata": {},
     "output_type": "execute_result"
    }
   ],
   "source": [
    "columns.dtypes"
   ]
  },
  {
   "cell_type": "code",
   "execution_count": 6,
   "metadata": {
    "collapsed": true
   },
   "outputs": [],
   "source": [
    "data.columns = columns.iloc[:,0] # adding columns"
   ]
  },
  {
   "cell_type": "code",
   "execution_count": 7,
   "metadata": {
    "collapsed": true
   },
   "outputs": [],
   "source": [
    "# TO have a nice copy on csv!\n",
    "\n",
    "#import csv\n",
    "#data.to_csv('vertebral.csv')"
   ]
  },
  {
   "cell_type": "code",
   "execution_count": 8,
   "metadata": {},
   "outputs": [
    {
     "data": {
      "text/html": [
       "<div>\n",
       "<style>\n",
       "    .dataframe thead tr:only-child th {\n",
       "        text-align: right;\n",
       "    }\n",
       "\n",
       "    .dataframe thead th {\n",
       "        text-align: left;\n",
       "    }\n",
       "\n",
       "    .dataframe tbody tr th {\n",
       "        vertical-align: top;\n",
       "    }\n",
       "</style>\n",
       "<table border=\"1\" class=\"dataframe\">\n",
       "  <thead>\n",
       "    <tr style=\"text-align: right;\">\n",
       "      <th></th>\n",
       "      <th>pelvic_incidence</th>\n",
       "      <th>pelvic_tilt</th>\n",
       "      <th>lumbar_lordosis_angle</th>\n",
       "      <th>sacral_slope</th>\n",
       "      <th>pelvic_radius</th>\n",
       "      <th>degree_spondylolisthesis</th>\n",
       "      <th>class</th>\n",
       "    </tr>\n",
       "  </thead>\n",
       "  <tbody>\n",
       "    <tr>\n",
       "      <th>300</th>\n",
       "      <td>50.676677</td>\n",
       "      <td>6.461501</td>\n",
       "      <td>35.000000</td>\n",
       "      <td>44.215175</td>\n",
       "      <td>116.587970</td>\n",
       "      <td>-0.214711</td>\n",
       "      <td>Normal</td>\n",
       "    </tr>\n",
       "    <tr>\n",
       "      <th>301</th>\n",
       "      <td>89.014875</td>\n",
       "      <td>26.075981</td>\n",
       "      <td>69.021259</td>\n",
       "      <td>62.938894</td>\n",
       "      <td>111.481075</td>\n",
       "      <td>6.061508</td>\n",
       "      <td>Normal</td>\n",
       "    </tr>\n",
       "    <tr>\n",
       "      <th>302</th>\n",
       "      <td>54.600316</td>\n",
       "      <td>21.488974</td>\n",
       "      <td>29.360216</td>\n",
       "      <td>33.111342</td>\n",
       "      <td>118.343321</td>\n",
       "      <td>-1.471067</td>\n",
       "      <td>Normal</td>\n",
       "    </tr>\n",
       "    <tr>\n",
       "      <th>303</th>\n",
       "      <td>34.382299</td>\n",
       "      <td>2.062683</td>\n",
       "      <td>32.390820</td>\n",
       "      <td>32.319617</td>\n",
       "      <td>128.300199</td>\n",
       "      <td>-3.365516</td>\n",
       "      <td>Normal</td>\n",
       "    </tr>\n",
       "    <tr>\n",
       "      <th>304</th>\n",
       "      <td>45.075450</td>\n",
       "      <td>12.306951</td>\n",
       "      <td>44.583177</td>\n",
       "      <td>32.768499</td>\n",
       "      <td>147.894637</td>\n",
       "      <td>-8.941709</td>\n",
       "      <td>Normal</td>\n",
       "    </tr>\n",
       "    <tr>\n",
       "      <th>305</th>\n",
       "      <td>47.903565</td>\n",
       "      <td>13.616688</td>\n",
       "      <td>36.000000</td>\n",
       "      <td>34.286877</td>\n",
       "      <td>117.449062</td>\n",
       "      <td>-4.245395</td>\n",
       "      <td>Normal</td>\n",
       "    </tr>\n",
       "    <tr>\n",
       "      <th>306</th>\n",
       "      <td>53.936748</td>\n",
       "      <td>20.721496</td>\n",
       "      <td>29.220534</td>\n",
       "      <td>33.215251</td>\n",
       "      <td>114.365845</td>\n",
       "      <td>-0.421010</td>\n",
       "      <td>Normal</td>\n",
       "    </tr>\n",
       "    <tr>\n",
       "      <th>307</th>\n",
       "      <td>61.446597</td>\n",
       "      <td>22.694968</td>\n",
       "      <td>46.170347</td>\n",
       "      <td>38.751628</td>\n",
       "      <td>125.670725</td>\n",
       "      <td>-2.707880</td>\n",
       "      <td>Normal</td>\n",
       "    </tr>\n",
       "    <tr>\n",
       "      <th>308</th>\n",
       "      <td>45.252792</td>\n",
       "      <td>8.693157</td>\n",
       "      <td>41.583126</td>\n",
       "      <td>36.559635</td>\n",
       "      <td>118.545842</td>\n",
       "      <td>0.214750</td>\n",
       "      <td>Normal</td>\n",
       "    </tr>\n",
       "    <tr>\n",
       "      <th>309</th>\n",
       "      <td>33.841641</td>\n",
       "      <td>5.073991</td>\n",
       "      <td>36.641233</td>\n",
       "      <td>28.767649</td>\n",
       "      <td>123.945244</td>\n",
       "      <td>-0.199249</td>\n",
       "      <td>Normal</td>\n",
       "    </tr>\n",
       "  </tbody>\n",
       "</table>\n",
       "</div>"
      ],
      "text/plain": [
       "0    pelvic_incidence  pelvic_tilt  lumbar_lordosis_angle  sacral_slope  \\\n",
       "300         50.676677     6.461501              35.000000     44.215175   \n",
       "301         89.014875    26.075981              69.021259     62.938894   \n",
       "302         54.600316    21.488974              29.360216     33.111342   \n",
       "303         34.382299     2.062683              32.390820     32.319617   \n",
       "304         45.075450    12.306951              44.583177     32.768499   \n",
       "305         47.903565    13.616688              36.000000     34.286877   \n",
       "306         53.936748    20.721496              29.220534     33.215251   \n",
       "307         61.446597    22.694968              46.170347     38.751628   \n",
       "308         45.252792     8.693157              41.583126     36.559635   \n",
       "309         33.841641     5.073991              36.641233     28.767649   \n",
       "\n",
       "0    pelvic_radius  degree_spondylolisthesis   class  \n",
       "300     116.587970                 -0.214711  Normal  \n",
       "301     111.481075                  6.061508  Normal  \n",
       "302     118.343321                 -1.471067  Normal  \n",
       "303     128.300199                 -3.365516  Normal  \n",
       "304     147.894637                 -8.941709  Normal  \n",
       "305     117.449062                 -4.245395  Normal  \n",
       "306     114.365845                 -0.421010  Normal  \n",
       "307     125.670725                 -2.707880  Normal  \n",
       "308     118.545842                  0.214750  Normal  \n",
       "309     123.945244                 -0.199249  Normal  "
      ]
     },
     "execution_count": 8,
     "metadata": {},
     "output_type": "execute_result"
    }
   ],
   "source": [
    "data.tail(10) # this data needs to be shuffled!"
   ]
  },
  {
   "cell_type": "code",
   "execution_count": 9,
   "metadata": {},
   "outputs": [
    {
     "data": {
      "text/plain": [
       "(310, 7)"
      ]
     },
     "execution_count": 9,
     "metadata": {},
     "output_type": "execute_result"
    }
   ],
   "source": [
    "# shuffling 1000 times <----- since there are groupped\n",
    "\n",
    "for i in range(0, 1000):\n",
    "    data = data.sample(frac=1) #1000 times!\n",
    "data.shape # 310 points! (too small) --> cross-validation will be used!"
   ]
  },
  {
   "cell_type": "code",
   "execution_count": 10,
   "metadata": {},
   "outputs": [
    {
     "data": {
      "text/plain": [
       "0\n",
       "pelvic_incidence            float64\n",
       "pelvic_tilt                 float64\n",
       "lumbar_lordosis_angle       float64\n",
       "sacral_slope                float64\n",
       "pelvic_radius               float64\n",
       "degree_spondylolisthesis    float64\n",
       "class                        object\n",
       "dtype: object"
      ]
     },
     "execution_count": 10,
     "metadata": {},
     "output_type": "execute_result"
    }
   ],
   "source": [
    "# Checking data formats\n",
    "data.dtypes"
   ]
  },
  {
   "cell_type": "code",
   "execution_count": 11,
   "metadata": {},
   "outputs": [
    {
     "data": {
      "text/html": [
       "<div>\n",
       "<style>\n",
       "    .dataframe thead tr:only-child th {\n",
       "        text-align: right;\n",
       "    }\n",
       "\n",
       "    .dataframe thead th {\n",
       "        text-align: left;\n",
       "    }\n",
       "\n",
       "    .dataframe tbody tr th {\n",
       "        vertical-align: top;\n",
       "    }\n",
       "</style>\n",
       "<table border=\"1\" class=\"dataframe\">\n",
       "  <thead>\n",
       "    <tr style=\"text-align: right;\">\n",
       "      <th></th>\n",
       "      <th>pelvic_incidence</th>\n",
       "      <th>pelvic_tilt</th>\n",
       "      <th>lumbar_lordosis_angle</th>\n",
       "      <th>sacral_slope</th>\n",
       "      <th>pelvic_radius</th>\n",
       "      <th>degree_spondylolisthesis</th>\n",
       "      <th>class</th>\n",
       "    </tr>\n",
       "  </thead>\n",
       "  <tbody>\n",
       "    <tr>\n",
       "      <th>247</th>\n",
       "      <td>49.828135</td>\n",
       "      <td>16.736435</td>\n",
       "      <td>28.000000</td>\n",
       "      <td>33.091700</td>\n",
       "      <td>121.435558</td>\n",
       "      <td>1.913307</td>\n",
       "      <td>Normal</td>\n",
       "    </tr>\n",
       "    <tr>\n",
       "      <th>255</th>\n",
       "      <td>67.538182</td>\n",
       "      <td>14.655042</td>\n",
       "      <td>58.001429</td>\n",
       "      <td>52.883139</td>\n",
       "      <td>123.632260</td>\n",
       "      <td>25.970206</td>\n",
       "      <td>Normal</td>\n",
       "    </tr>\n",
       "    <tr>\n",
       "      <th>216</th>\n",
       "      <td>50.913101</td>\n",
       "      <td>6.677000</td>\n",
       "      <td>30.896522</td>\n",
       "      <td>44.236102</td>\n",
       "      <td>118.151531</td>\n",
       "      <td>-1.057986</td>\n",
       "      <td>Normal</td>\n",
       "    </tr>\n",
       "    <tr>\n",
       "      <th>32</th>\n",
       "      <td>44.936675</td>\n",
       "      <td>17.443838</td>\n",
       "      <td>27.780576</td>\n",
       "      <td>27.492837</td>\n",
       "      <td>117.980324</td>\n",
       "      <td>5.569620</td>\n",
       "      <td>Abnormal</td>\n",
       "    </tr>\n",
       "    <tr>\n",
       "      <th>261</th>\n",
       "      <td>74.976021</td>\n",
       "      <td>14.921705</td>\n",
       "      <td>53.730072</td>\n",
       "      <td>60.054317</td>\n",
       "      <td>105.645400</td>\n",
       "      <td>1.594748</td>\n",
       "      <td>Normal</td>\n",
       "    </tr>\n",
       "  </tbody>\n",
       "</table>\n",
       "</div>"
      ],
      "text/plain": [
       "0    pelvic_incidence  pelvic_tilt  lumbar_lordosis_angle  sacral_slope  \\\n",
       "247         49.828135    16.736435              28.000000     33.091700   \n",
       "255         67.538182    14.655042              58.001429     52.883139   \n",
       "216         50.913101     6.677000              30.896522     44.236102   \n",
       "32          44.936675    17.443838              27.780576     27.492837   \n",
       "261         74.976021    14.921705              53.730072     60.054317   \n",
       "\n",
       "0    pelvic_radius  degree_spondylolisthesis     class  \n",
       "247     121.435558                  1.913307    Normal  \n",
       "255     123.632260                 25.970206    Normal  \n",
       "216     118.151531                 -1.057986    Normal  \n",
       "32      117.980324                  5.569620  Abnormal  \n",
       "261     105.645400                  1.594748    Normal  "
      ]
     },
     "execution_count": 11,
     "metadata": {},
     "output_type": "execute_result"
    }
   ],
   "source": [
    "data.head(5)"
   ]
  },
  {
   "cell_type": "code",
   "execution_count": 12,
   "metadata": {
    "collapsed": true
   },
   "outputs": [],
   "source": [
    "data['class'] = data['class'].replace(['Normal', 'Abnormal'],[0,1]) #"
   ]
  },
  {
   "cell_type": "code",
   "execution_count": 13,
   "metadata": {},
   "outputs": [
    {
     "data": {
      "text/html": [
       "<div>\n",
       "<style>\n",
       "    .dataframe thead tr:only-child th {\n",
       "        text-align: right;\n",
       "    }\n",
       "\n",
       "    .dataframe thead th {\n",
       "        text-align: left;\n",
       "    }\n",
       "\n",
       "    .dataframe tbody tr th {\n",
       "        vertical-align: top;\n",
       "    }\n",
       "</style>\n",
       "<table border=\"1\" class=\"dataframe\">\n",
       "  <thead>\n",
       "    <tr style=\"text-align: right;\">\n",
       "      <th></th>\n",
       "      <th>pelvic_incidence</th>\n",
       "      <th>pelvic_tilt</th>\n",
       "      <th>lumbar_lordosis_angle</th>\n",
       "      <th>sacral_slope</th>\n",
       "      <th>pelvic_radius</th>\n",
       "      <th>degree_spondylolisthesis</th>\n",
       "      <th>class</th>\n",
       "    </tr>\n",
       "  </thead>\n",
       "  <tbody>\n",
       "    <tr>\n",
       "      <th>247</th>\n",
       "      <td>49.828135</td>\n",
       "      <td>16.736435</td>\n",
       "      <td>28.000000</td>\n",
       "      <td>33.091700</td>\n",
       "      <td>121.435558</td>\n",
       "      <td>1.913307</td>\n",
       "      <td>0</td>\n",
       "    </tr>\n",
       "    <tr>\n",
       "      <th>255</th>\n",
       "      <td>67.538182</td>\n",
       "      <td>14.655042</td>\n",
       "      <td>58.001429</td>\n",
       "      <td>52.883139</td>\n",
       "      <td>123.632260</td>\n",
       "      <td>25.970206</td>\n",
       "      <td>0</td>\n",
       "    </tr>\n",
       "    <tr>\n",
       "      <th>216</th>\n",
       "      <td>50.913101</td>\n",
       "      <td>6.677000</td>\n",
       "      <td>30.896522</td>\n",
       "      <td>44.236102</td>\n",
       "      <td>118.151531</td>\n",
       "      <td>-1.057986</td>\n",
       "      <td>0</td>\n",
       "    </tr>\n",
       "    <tr>\n",
       "      <th>32</th>\n",
       "      <td>44.936675</td>\n",
       "      <td>17.443838</td>\n",
       "      <td>27.780576</td>\n",
       "      <td>27.492837</td>\n",
       "      <td>117.980324</td>\n",
       "      <td>5.569620</td>\n",
       "      <td>1</td>\n",
       "    </tr>\n",
       "    <tr>\n",
       "      <th>261</th>\n",
       "      <td>74.976021</td>\n",
       "      <td>14.921705</td>\n",
       "      <td>53.730072</td>\n",
       "      <td>60.054317</td>\n",
       "      <td>105.645400</td>\n",
       "      <td>1.594748</td>\n",
       "      <td>0</td>\n",
       "    </tr>\n",
       "  </tbody>\n",
       "</table>\n",
       "</div>"
      ],
      "text/plain": [
       "0    pelvic_incidence  pelvic_tilt  lumbar_lordosis_angle  sacral_slope  \\\n",
       "247         49.828135    16.736435              28.000000     33.091700   \n",
       "255         67.538182    14.655042              58.001429     52.883139   \n",
       "216         50.913101     6.677000              30.896522     44.236102   \n",
       "32          44.936675    17.443838              27.780576     27.492837   \n",
       "261         74.976021    14.921705              53.730072     60.054317   \n",
       "\n",
       "0    pelvic_radius  degree_spondylolisthesis  class  \n",
       "247     121.435558                  1.913307      0  \n",
       "255     123.632260                 25.970206      0  \n",
       "216     118.151531                 -1.057986      0  \n",
       "32      117.980324                  5.569620      1  \n",
       "261     105.645400                  1.594748      0  "
      ]
     },
     "execution_count": 13,
     "metadata": {},
     "output_type": "execute_result"
    }
   ],
   "source": [
    "data.head(5)"
   ]
  },
  {
   "cell_type": "code",
   "execution_count": 14,
   "metadata": {},
   "outputs": [
    {
     "data": {
      "text/html": [
       "<div>\n",
       "<style>\n",
       "    .dataframe thead tr:only-child th {\n",
       "        text-align: right;\n",
       "    }\n",
       "\n",
       "    .dataframe thead th {\n",
       "        text-align: left;\n",
       "    }\n",
       "\n",
       "    .dataframe tbody tr th {\n",
       "        vertical-align: top;\n",
       "    }\n",
       "</style>\n",
       "<table border=\"1\" class=\"dataframe\">\n",
       "  <thead>\n",
       "    <tr style=\"text-align: right;\">\n",
       "      <th></th>\n",
       "      <th>pelvic_incidence</th>\n",
       "      <th>pelvic_tilt</th>\n",
       "      <th>lumbar_lordosis_angle</th>\n",
       "      <th>sacral_slope</th>\n",
       "      <th>pelvic_radius</th>\n",
       "      <th>degree_spondylolisthesis</th>\n",
       "      <th>class</th>\n",
       "    </tr>\n",
       "  </thead>\n",
       "  <tbody>\n",
       "    <tr>\n",
       "      <th>count</th>\n",
       "      <td>310.000000</td>\n",
       "      <td>310.000000</td>\n",
       "      <td>310.000000</td>\n",
       "      <td>310.000000</td>\n",
       "      <td>310.000000</td>\n",
       "      <td>310.000000</td>\n",
       "      <td>310.000000</td>\n",
       "    </tr>\n",
       "    <tr>\n",
       "      <th>mean</th>\n",
       "      <td>60.496653</td>\n",
       "      <td>17.542822</td>\n",
       "      <td>51.930930</td>\n",
       "      <td>42.953831</td>\n",
       "      <td>117.920655</td>\n",
       "      <td>26.296694</td>\n",
       "      <td>0.677419</td>\n",
       "    </tr>\n",
       "    <tr>\n",
       "      <th>std</th>\n",
       "      <td>17.236520</td>\n",
       "      <td>10.008330</td>\n",
       "      <td>18.554064</td>\n",
       "      <td>13.423102</td>\n",
       "      <td>13.317377</td>\n",
       "      <td>37.559027</td>\n",
       "      <td>0.468220</td>\n",
       "    </tr>\n",
       "    <tr>\n",
       "      <th>min</th>\n",
       "      <td>26.147921</td>\n",
       "      <td>-6.554948</td>\n",
       "      <td>14.000000</td>\n",
       "      <td>13.366931</td>\n",
       "      <td>70.082575</td>\n",
       "      <td>-11.058179</td>\n",
       "      <td>0.000000</td>\n",
       "    </tr>\n",
       "    <tr>\n",
       "      <th>25%</th>\n",
       "      <td>46.430294</td>\n",
       "      <td>10.667069</td>\n",
       "      <td>37.000000</td>\n",
       "      <td>33.347122</td>\n",
       "      <td>110.709196</td>\n",
       "      <td>1.603727</td>\n",
       "      <td>0.000000</td>\n",
       "    </tr>\n",
       "    <tr>\n",
       "      <th>50%</th>\n",
       "      <td>58.691038</td>\n",
       "      <td>16.357689</td>\n",
       "      <td>49.562398</td>\n",
       "      <td>42.404912</td>\n",
       "      <td>118.268178</td>\n",
       "      <td>11.767934</td>\n",
       "      <td>1.000000</td>\n",
       "    </tr>\n",
       "    <tr>\n",
       "      <th>75%</th>\n",
       "      <td>72.877696</td>\n",
       "      <td>22.120395</td>\n",
       "      <td>63.000000</td>\n",
       "      <td>52.695888</td>\n",
       "      <td>125.467674</td>\n",
       "      <td>41.287352</td>\n",
       "      <td>1.000000</td>\n",
       "    </tr>\n",
       "    <tr>\n",
       "      <th>max</th>\n",
       "      <td>129.834041</td>\n",
       "      <td>49.431864</td>\n",
       "      <td>125.742385</td>\n",
       "      <td>121.429566</td>\n",
       "      <td>163.071041</td>\n",
       "      <td>418.543082</td>\n",
       "      <td>1.000000</td>\n",
       "    </tr>\n",
       "  </tbody>\n",
       "</table>\n",
       "</div>"
      ],
      "text/plain": [
       "0      pelvic_incidence  pelvic_tilt  lumbar_lordosis_angle  sacral_slope  \\\n",
       "count        310.000000   310.000000             310.000000    310.000000   \n",
       "mean          60.496653    17.542822              51.930930     42.953831   \n",
       "std           17.236520    10.008330              18.554064     13.423102   \n",
       "min           26.147921    -6.554948              14.000000     13.366931   \n",
       "25%           46.430294    10.667069              37.000000     33.347122   \n",
       "50%           58.691038    16.357689              49.562398     42.404912   \n",
       "75%           72.877696    22.120395              63.000000     52.695888   \n",
       "max          129.834041    49.431864             125.742385    121.429566   \n",
       "\n",
       "0      pelvic_radius  degree_spondylolisthesis       class  \n",
       "count     310.000000                310.000000  310.000000  \n",
       "mean      117.920655                 26.296694    0.677419  \n",
       "std        13.317377                 37.559027    0.468220  \n",
       "min        70.082575                -11.058179    0.000000  \n",
       "25%       110.709196                  1.603727    0.000000  \n",
       "50%       118.268178                 11.767934    1.000000  \n",
       "75%       125.467674                 41.287352    1.000000  \n",
       "max       163.071041                418.543082    1.000000  "
      ]
     },
     "execution_count": 14,
     "metadata": {},
     "output_type": "execute_result"
    }
   ],
   "source": [
    "data.describe() # DATA NEEDS standarization"
   ]
  },
  {
   "cell_type": "markdown",
   "metadata": {},
   "source": [
    "# STANDARIZATION"
   ]
  },
  {
   "cell_type": "code",
   "execution_count": 15,
   "metadata": {
    "collapsed": true
   },
   "outputs": [],
   "source": [
    "#2. standarization!\n",
    "from sklearn.preprocessing import StandardScaler"
   ]
  },
  {
   "cell_type": "code",
   "execution_count": 16,
   "metadata": {
    "collapsed": true
   },
   "outputs": [],
   "source": [
    "X = data.iloc[:,0:6]\n",
    "Y = data.iloc[:,6]\n",
    "\n",
    "column_X = X.columns.get_values()"
   ]
  },
  {
   "cell_type": "code",
   "execution_count": 17,
   "metadata": {
    "collapsed": true
   },
   "outputs": [],
   "source": [
    "# How balanced is the data?\n",
    "\n",
    "Balance = Y.value_counts()\n",
    "category = ['abnormal', 'normal']"
   ]
  },
  {
   "cell_type": "code",
   "execution_count": 1,
   "metadata": {},
   "outputs": [
    {
     "ename": "NameError",
     "evalue": "name 'Y' is not defined",
     "output_type": "error",
     "traceback": [
      "\u001b[1;31m---------------------------------------------------------------------------\u001b[0m",
      "\u001b[1;31mNameError\u001b[0m                                 Traceback (most recent call last)",
      "\u001b[1;32m<ipython-input-1-c11ed221837e>\u001b[0m in \u001b[0;36m<module>\u001b[1;34m()\u001b[0m\n\u001b[0;32m      1\u001b[0m \u001b[1;31m#Y.value_counts()\u001b[0m\u001b[1;33m\u001b[0m\u001b[1;33m\u001b[0m\u001b[0m\n\u001b[1;32m----> 2\u001b[1;33m \u001b[0mY\u001b[0m\u001b[1;33m.\u001b[0m\u001b[0mvalue_counts\u001b[0m\u001b[1;33m(\u001b[0m\u001b[1;33m)\u001b[0m\u001b[1;33m\u001b[0m\u001b[0m\n\u001b[0m",
      "\u001b[1;31mNameError\u001b[0m: name 'Y' is not defined"
     ]
    }
   ],
   "source": [
    "#Y.value_counts()\n",
    "Y.value_counts()"
   ]
  },
  {
   "cell_type": "code",
   "execution_count": 19,
   "metadata": {},
   "outputs": [
    {
     "data": {
      "image/png": "[encoded data removed]",
      "text/plain": [
       "<matplotlib.figure.Figure at 0x828c278>"
      ]
     },
     "metadata": {},
     "output_type": "display_data"
    }
   ],
   "source": [
    "plt.bar(category, Balance)\n",
    "#plt.xticks(category, objects)\n",
    "plt.show()"
   ]
  },
  {
   "cell_type": "code",
   "execution_count": 20,
   "metadata": {},
   "outputs": [
    {
     "data": {
      "text/plain": [
       "0.6774193548387096"
      ]
     },
     "execution_count": 20,
     "metadata": {},
     "output_type": "execute_result"
    }
   ],
   "source": [
    "210/310 # <----- BASE LINE for the classifier 68%"
   ]
  },
  {
   "cell_type": "code",
   "execution_count": 21,
   "metadata": {
    "collapsed": true
   },
   "outputs": [],
   "source": [
    "#scaler = StandardScaler()\n",
    "RE = StandardScaler().fit_transform(X)"
   ]
  },
  {
   "cell_type": "code",
   "execution_count": 22,
   "metadata": {
    "collapsed": true
   },
   "outputs": [],
   "source": [
    "X = pd.DataFrame(RE, columns = column_X)"
   ]
  },
  {
   "cell_type": "code",
   "execution_count": 23,
   "metadata": {},
   "outputs": [
    {
     "data": {
      "text/html": [
       "<div>\n",
       "<style>\n",
       "    .dataframe thead tr:only-child th {\n",
       "        text-align: right;\n",
       "    }\n",
       "\n",
       "    .dataframe thead th {\n",
       "        text-align: left;\n",
       "    }\n",
       "\n",
       "    .dataframe tbody tr th {\n",
       "        vertical-align: top;\n",
       "    }\n",
       "</style>\n",
       "<table border=\"1\" class=\"dataframe\">\n",
       "  <thead>\n",
       "    <tr style=\"text-align: right;\">\n",
       "      <th></th>\n",
       "      <th>pelvic_incidence</th>\n",
       "      <th>pelvic_tilt</th>\n",
       "      <th>lumbar_lordosis_angle</th>\n",
       "      <th>sacral_slope</th>\n",
       "      <th>pelvic_radius</th>\n",
       "      <th>degree_spondylolisthesis</th>\n",
       "    </tr>\n",
       "  </thead>\n",
       "  <tbody>\n",
       "    <tr>\n",
       "      <th>count</th>\n",
       "      <td>3.100000e+02</td>\n",
       "      <td>3.100000e+02</td>\n",
       "      <td>3.100000e+02</td>\n",
       "      <td>3.100000e+02</td>\n",
       "      <td>3.100000e+02</td>\n",
       "      <td>3.100000e+02</td>\n",
       "    </tr>\n",
       "    <tr>\n",
       "      <th>mean</th>\n",
       "      <td>7.429541e-16</td>\n",
       "      <td>-1.398523e-16</td>\n",
       "      <td>1.955425e-16</td>\n",
       "      <td>-1.307198e-16</td>\n",
       "      <td>4.199150e-16</td>\n",
       "      <td>-1.933937e-17</td>\n",
       "    </tr>\n",
       "    <tr>\n",
       "      <th>std</th>\n",
       "      <td>1.001617e+00</td>\n",
       "      <td>1.001617e+00</td>\n",
       "      <td>1.001617e+00</td>\n",
       "      <td>1.001617e+00</td>\n",
       "      <td>1.001617e+00</td>\n",
       "      <td>1.001617e+00</td>\n",
       "    </tr>\n",
       "    <tr>\n",
       "      <th>min</th>\n",
       "      <td>-1.996010e+00</td>\n",
       "      <td>-2.411664e+00</td>\n",
       "      <td>-2.047652e+00</td>\n",
       "      <td>-2.207741e+00</td>\n",
       "      <td>-3.597963e+00</td>\n",
       "      <td>-9.961725e-01</td>\n",
       "    </tr>\n",
       "    <tr>\n",
       "      <th>25%</th>\n",
       "      <td>-8.173982e-01</td>\n",
       "      <td>-6.881138e-01</td>\n",
       "      <td>-8.060267e-01</td>\n",
       "      <td>-7.168418e-01</td>\n",
       "      <td>-5.423830e-01</td>\n",
       "      <td>-6.585073e-01</td>\n",
       "    </tr>\n",
       "    <tr>\n",
       "      <th>50%</th>\n",
       "      <td>-1.049246e-01</td>\n",
       "      <td>-1.186061e-01</td>\n",
       "      <td>-1.278621e-01</td>\n",
       "      <td>-4.095971e-02</td>\n",
       "      <td>2.613767e-02</td>\n",
       "      <td>-3.874502e-01</td>\n",
       "    </tr>\n",
       "    <tr>\n",
       "      <th>75%</th>\n",
       "      <td>7.194643e-01</td>\n",
       "      <td>4.581158e-01</td>\n",
       "      <td>5.975493e-01</td>\n",
       "      <td>7.269414e-01</td>\n",
       "      <td>5.676209e-01</td>\n",
       "      <td>3.997679e-01</td>\n",
       "    </tr>\n",
       "    <tr>\n",
       "      <th>max</th>\n",
       "      <td>4.029206e+00</td>\n",
       "      <td>3.191402e+00</td>\n",
       "      <td>3.984615e+00</td>\n",
       "      <td>5.855771e+00</td>\n",
       "      <td>3.395818e+00</td>\n",
       "      <td>1.046035e+01</td>\n",
       "    </tr>\n",
       "  </tbody>\n",
       "</table>\n",
       "</div>"
      ],
      "text/plain": [
       "       pelvic_incidence   pelvic_tilt  lumbar_lordosis_angle  sacral_slope  \\\n",
       "count      3.100000e+02  3.100000e+02           3.100000e+02  3.100000e+02   \n",
       "mean       7.429541e-16 -1.398523e-16           1.955425e-16 -1.307198e-16   \n",
       "std        1.001617e+00  1.001617e+00           1.001617e+00  1.001617e+00   \n",
       "min       -1.996010e+00 -2.411664e+00          -2.047652e+00 -2.207741e+00   \n",
       "25%       -8.173982e-01 -6.881138e-01          -8.060267e-01 -7.168418e-01   \n",
       "50%       -1.049246e-01 -1.186061e-01          -1.278621e-01 -4.095971e-02   \n",
       "75%        7.194643e-01  4.581158e-01           5.975493e-01  7.269414e-01   \n",
       "max        4.029206e+00  3.191402e+00           3.984615e+00  5.855771e+00   \n",
       "\n",
       "       pelvic_radius  degree_spondylolisthesis  \n",
       "count   3.100000e+02              3.100000e+02  \n",
       "mean    4.199150e-16             -1.933937e-17  \n",
       "std     1.001617e+00              1.001617e+00  \n",
       "min    -3.597963e+00             -9.961725e-01  \n",
       "25%    -5.423830e-01             -6.585073e-01  \n",
       "50%     2.613767e-02             -3.874502e-01  \n",
       "75%     5.676209e-01              3.997679e-01  \n",
       "max     3.395818e+00              1.046035e+01  "
      ]
     },
     "execution_count": 23,
     "metadata": {},
     "output_type": "execute_result"
    }
   ],
   "source": [
    "X.describe() #NOW everything is standarized!"
   ]
  },
  {
   "cell_type": "code",
   "execution_count": 24,
   "metadata": {
    "collapsed": true
   },
   "outputs": [],
   "source": [
    "# Check for NANS?\n",
    "\n",
    "X.dropna(axis = 0, how= 'any', inplace = True)"
   ]
  },
  {
   "cell_type": "code",
   "execution_count": 25,
   "metadata": {},
   "outputs": [
    {
     "data": {
      "text/plain": [
       "(310, 6)"
      ]
     },
     "execution_count": 25,
     "metadata": {},
     "output_type": "execute_result"
    }
   ],
   "source": [
    "X.shape # NO Na,NaNs nothing!"
   ]
  },
  {
   "cell_type": "code",
   "execution_count": 26,
   "metadata": {
    "collapsed": true
   },
   "outputs": [],
   "source": [
    "# examining COLLINEARITY:\n",
    "import seaborn as sns\n",
    "\n",
    "#lets have a look the relationship among variables:\n",
    "corr_X = X.corr()\n",
    "\n",
    "# Generate a mask for the upper triangle\n",
    "mask = np.zeros_like(corr_X, dtype=np.bool)\n",
    "mask[np.triu_indices_from(mask)] = True # Triangule or square"
   ]
  },
  {
   "cell_type": "code",
   "execution_count": 27,
   "metadata": {},
   "outputs": [
    {
     "data": {
      "text/html": [
       "<div>\n",
       "<style>\n",
       "    .dataframe thead tr:only-child th {\n",
       "        text-align: right;\n",
       "    }\n",
       "\n",
       "    .dataframe thead th {\n",
       "        text-align: left;\n",
       "    }\n",
       "\n",
       "    .dataframe tbody tr th {\n",
       "        vertical-align: top;\n",
       "    }\n",
       "</style>\n",
       "<table border=\"1\" class=\"dataframe\">\n",
       "  <thead>\n",
       "    <tr style=\"text-align: right;\">\n",
       "      <th></th>\n",
       "      <th>pelvic_incidence</th>\n",
       "      <th>pelvic_tilt</th>\n",
       "      <th>lumbar_lordosis_angle</th>\n",
       "      <th>sacral_slope</th>\n",
       "      <th>pelvic_radius</th>\n",
       "      <th>degree_spondylolisthesis</th>\n",
       "    </tr>\n",
       "  </thead>\n",
       "  <tbody>\n",
       "    <tr>\n",
       "      <th>pelvic_incidence</th>\n",
       "      <td>1.000000</td>\n",
       "      <td>0.629199</td>\n",
       "      <td>0.717282</td>\n",
       "      <td>0.814960</td>\n",
       "      <td>-0.247467</td>\n",
       "      <td>0.638743</td>\n",
       "    </tr>\n",
       "    <tr>\n",
       "      <th>pelvic_tilt</th>\n",
       "      <td>0.629199</td>\n",
       "      <td>1.000000</td>\n",
       "      <td>0.432764</td>\n",
       "      <td>0.062345</td>\n",
       "      <td>0.032668</td>\n",
       "      <td>0.397862</td>\n",
       "    </tr>\n",
       "    <tr>\n",
       "      <th>lumbar_lordosis_angle</th>\n",
       "      <td>0.717282</td>\n",
       "      <td>0.432764</td>\n",
       "      <td>1.000000</td>\n",
       "      <td>0.598387</td>\n",
       "      <td>-0.080344</td>\n",
       "      <td>0.533667</td>\n",
       "    </tr>\n",
       "    <tr>\n",
       "      <th>sacral_slope</th>\n",
       "      <td>0.814960</td>\n",
       "      <td>0.062345</td>\n",
       "      <td>0.598387</td>\n",
       "      <td>1.000000</td>\n",
       "      <td>-0.342128</td>\n",
       "      <td>0.523557</td>\n",
       "    </tr>\n",
       "    <tr>\n",
       "      <th>pelvic_radius</th>\n",
       "      <td>-0.247467</td>\n",
       "      <td>0.032668</td>\n",
       "      <td>-0.080344</td>\n",
       "      <td>-0.342128</td>\n",
       "      <td>1.000000</td>\n",
       "      <td>-0.026065</td>\n",
       "    </tr>\n",
       "    <tr>\n",
       "      <th>degree_spondylolisthesis</th>\n",
       "      <td>0.638743</td>\n",
       "      <td>0.397862</td>\n",
       "      <td>0.533667</td>\n",
       "      <td>0.523557</td>\n",
       "      <td>-0.026065</td>\n",
       "      <td>1.000000</td>\n",
       "    </tr>\n",
       "  </tbody>\n",
       "</table>\n",
       "</div>"
      ],
      "text/plain": [
       "                          pelvic_incidence  pelvic_tilt  \\\n",
       "pelvic_incidence                  1.000000     0.629199   \n",
       "pelvic_tilt                       0.629199     1.000000   \n",
       "lumbar_lordosis_angle             0.717282     0.432764   \n",
       "sacral_slope                      0.814960     0.062345   \n",
       "pelvic_radius                    -0.247467     0.032668   \n",
       "degree_spondylolisthesis          0.638743     0.397862   \n",
       "\n",
       "                          lumbar_lordosis_angle  sacral_slope  pelvic_radius  \\\n",
       "pelvic_incidence                       0.717282      0.814960      -0.247467   \n",
       "pelvic_tilt                            0.432764      0.062345       0.032668   \n",
       "lumbar_lordosis_angle                  1.000000      0.598387      -0.080344   \n",
       "sacral_slope                           0.598387      1.000000      -0.342128   \n",
       "pelvic_radius                         -0.080344     -0.342128       1.000000   \n",
       "degree_spondylolisthesis               0.533667      0.523557      -0.026065   \n",
       "\n",
       "                          degree_spondylolisthesis  \n",
       "pelvic_incidence                          0.638743  \n",
       "pelvic_tilt                               0.397862  \n",
       "lumbar_lordosis_angle                     0.533667  \n",
       "sacral_slope                              0.523557  \n",
       "pelvic_radius                            -0.026065  \n",
       "degree_spondylolisthesis                  1.000000  "
      ]
     },
     "execution_count": 27,
     "metadata": {},
     "output_type": "execute_result"
    }
   ],
   "source": [
    "corr_X"
   ]
  },
  {
   "cell_type": "code",
   "execution_count": 28,
   "metadata": {},
   "outputs": [
    {
     "data": {
      "image/png": "[encoded data removed]",
      "text/plain": [
       "<matplotlib.figure.Figure at 0x8635278>"
      ]
     },
     "metadata": {},
     "output_type": "display_data"
    }
   ],
   "source": [
    "f, ax = plt.subplots(figsize=(10, 10))\n",
    "\n",
    "# Generate a custom diverging colormap\n",
    "cmap = sns.diverging_palette(220, 10, as_cmap=True)\n",
    "\n",
    "# Draw the heatmap with the mask and correct aspect ratio\n",
    "sns.heatmap(corr_X, mask=mask, cmap=cmap, vmax=1, center=0,\n",
    "            square=False, linewidths=.6, cbar_kws={\"shrink\": 0.5})\n",
    "plt.title('Correlations between different predictors')\n",
    "plt.show()"
   ]
  },
  {
   "cell_type": "code",
   "execution_count": 30,
   "metadata": {
    "collapsed": true
   },
   "outputs": [],
   "source": [
    "## collinear variables\n",
    "# - sacral slope and pelvic incidence, but pelvic has more influence with the other variables\n",
    "\n",
    "# I will remove pelvic incidence\n",
    "X.drop(['pelvic_incidence'], axis = 1, inplace=True)"
   ]
  },
  {
   "cell_type": "markdown",
   "metadata": {},
   "source": [
    "# MODEL 1: "
   ]
  },
  {
   "cell_type": "code",
   "execution_count": 32,
   "metadata": {},
   "outputs": [
    {
     "name": "stdout",
     "output_type": "stream",
     "text": [
      "Coefficients:  [[ 0.55632532 -0.16568165 -0.85198973 -1.10848661  3.852699  ]]\n",
      "Intercept:  [2.00710656]\n",
      "Confusion matrix:\n",
      " [[ 80  20]\n",
      " [ 27 183]]\n",
      "Accuracy calculated from the training set = 0.848\n",
      "BETAS are:\n",
      " Index(['pelvic_tilt', 'lumbar_lordosis_angle', 'sacral_slope', 'pelvic_radius',\n",
      "       'degree_spondylolisthesis'],\n",
      "      dtype='object')\n"
     ]
    },
    {
     "name": "stderr",
     "output_type": "stream",
     "text": [
      "C:\\anaconda3\\lib\\site-packages\\sklearn\\linear_model\\logistic.py:432: FutureWarning: Default solver will be changed to 'lbfgs' in 0.22. Specify a solver to silence this warning.\n",
      "  FutureWarning)\n"
     ]
    }
   ],
   "source": [
    "# build and fit model\n",
    "reg = LogisticRegression()\n",
    "reg.fit(X,Y)\n",
    "\n",
    "print(\"Coefficients: \",reg.coef_)\n",
    "print(\"Intercept: \", reg.intercept_)\n",
    "\n",
    "# compute predicted values from training set\n",
    "Y_fitted1 = reg.predict(X) # originally called PREDICTED\n",
    "\n",
    "cm = confusion_matrix(Y, Y_fitted1)\n",
    "print(\"Confusion matrix:\\n\",cm)\n",
    "\n",
    "accuracy = (cm[0][0]+cm[1][1])/(cm[0][0]+cm[1][1]+cm[0][1]+cm[1][0])\n",
    "print(\"Accuracy calculated from the training set = %.3f\" % (accuracy))\n",
    "\n",
    "print(\"BETAS are:\\n\",  X.columns)"
   ]
  },
  {
   "cell_type": "markdown",
   "metadata": {},
   "source": [
    "# Cross-validation 1"
   ]
  },
  {
   "cell_type": "code",
   "execution_count": 224,
   "metadata": {},
   "outputs": [
    {
     "name": "stdout",
     "output_type": "stream",
     "text": [
      "Accuracies from 10 individual folds:\n",
      "[0.83870968 0.93548387 0.93548387 0.83870968 0.90322581 0.90322581\n",
      " 0.77419355 0.87096774 0.80645161 0.70967742]\n",
      "Accuracy calculated using 10-fold cross validation = 0.852\n"
     ]
    }
   ],
   "source": [
    "# Cross-validation\n",
    "\n",
    "# number of folds\n",
    "k = 10\n",
    "scores = cross_val_score(estimator = reg,\n",
    "                        X=X,\n",
    "                        y=Y,\n",
    "                        scoring=\"accuracy\",\n",
    "                        cv=k)\n",
    "print(\"Accuracies from %d individual folds:\" % k)\n",
    "print(scores)\n",
    "print(\"Accuracy calculated using %d-fold cross validation = %.3f\" % (k, scores.mean()))"
   ]
  },
  {
   "cell_type": "markdown",
   "metadata": {},
   "source": [
    "# Model 2: without 'lumbar_lordosis_angle' since is collinear"
   ]
  },
  {
   "cell_type": "code",
   "execution_count": 34,
   "metadata": {
    "collapsed": true
   },
   "outputs": [],
   "source": [
    "# It seems to be that lumbar_lordosis_angle is not affecting much the model, so refit without it:\n",
    "X.drop(['lumbar_lordosis_angle'], axis = 1, inplace=True)"
   ]
  },
  {
   "cell_type": "code",
   "execution_count": 234,
   "metadata": {},
   "outputs": [
    {
     "name": "stdout",
     "output_type": "stream",
     "text": [
      "Coefficients:  [[ 0.51820608 -0.96208387 -1.12035215  3.80264533]]\n",
      "Intercept:  [2.00814288]\n",
      "Confusion matrix:\n",
      " [[ 81  19]\n",
      " [ 26 184]]\n",
      "Accuracy calculated from the training set = 0.848\n",
      "BETAS are:\n",
      " Index(['pelvic_tilt', 'sacral_slope', 'pelvic_radius',\n",
      "       'degree_spondylolisthesis'],\n",
      "      dtype='object')\n",
      "              precision    recall  f1-score   support\n",
      "\n",
      "          no       0.76      0.81      0.78       100\n",
      "         yes       0.91      0.88      0.89       210\n",
      "\n",
      "   micro avg       0.85      0.85      0.85       310\n",
      "   macro avg       0.83      0.84      0.84       310\n",
      "weighted avg       0.86      0.85      0.86       310\n",
      "\n"
     ]
    }
   ],
   "source": [
    "# build and fit model\n",
    "reg2 = LogisticRegression()\n",
    "reg2.fit(X,Y)\n",
    "\n",
    "print(\"Coefficients: \",reg2.coef_)\n",
    "print(\"Intercept: \", reg2.intercept_)\n",
    "\n",
    "# compute predicted values from training set\n",
    "Y_fitted2 = reg2.predict(X) # <-------------------- gives (1, 0) \n",
    "\n",
    "Y_Pred2 = reg2.predict_proba(X) # <---------------PROBABILITY\n",
    "\n",
    "\n",
    "cm2 = confusion_matrix(Y, Y_fitted2)\n",
    "print(\"Confusion matrix:\\n\",cm2)\n",
    "\n",
    "accuracy_2 = (cm2[0][0]+cm2[1][1])/(cm2[0][0]+cm2[1][1]+cm2[0][1]+cm2[1][0])\n",
    "print(\"Accuracy calculated from the training set = %.3f\" % (accuracy))\n",
    "\n",
    "print(\"BETAS are:\\n\",  X.columns)\n",
    "print(classification_report(Y, Y_fitted2, target_names=['no', 'yes']))"
   ]
  },
  {
   "cell_type": "markdown",
   "metadata": {},
   "source": [
    "# Cross-validation 2"
   ]
  },
  {
   "cell_type": "code",
   "execution_count": 226,
   "metadata": {},
   "outputs": [
    {
     "name": "stdout",
     "output_type": "stream",
     "text": [
      "Accuracies from 10 individual folds:\n",
      "[0.83870968 0.93548387 0.93548387 0.83870968 0.90322581 0.90322581\n",
      " 0.77419355 0.87096774 0.80645161 0.70967742]\n",
      "Accuracy calculated using 10-fold cross validation = 0.852\n"
     ]
    }
   ],
   "source": [
    "# Cross-validation\n",
    "\n",
    "# number of folds\n",
    "k = 10\n",
    "scores = cross_val_score(estimator = reg2,\n",
    "                        X=X,\n",
    "                        y=Y,\n",
    "                        scoring=\"accuracy\",\n",
    "                        cv=k)\n",
    "print(\"Accuracies from %d individual folds:\" % k)\n",
    "print(scores)\n",
    "print(\"Accuracy calculated using %d-fold cross validation = %.3f\" % (k, scores.mean()))"
   ]
  },
  {
   "cell_type": "markdown",
   "metadata": {},
   "source": [
    "# It incremented accuracy to 0.1 percent moro, not too much, so this variable is somehow irrelevant"
   ]
  },
  {
   "cell_type": "markdown",
   "metadata": {},
   "source": [
    "# _Estimating Residuals: (Pearson) standarized = (o -E)^2 / (E)"
   ]
  },
  {
   "cell_type": "code",
   "execution_count": 39,
   "metadata": {},
   "outputs": [
    {
     "data": {
      "text/plain": [
       "(310, 4)"
      ]
     },
     "execution_count": 39,
     "metadata": {},
     "output_type": "execute_result"
    }
   ],
   "source": [
    "Pearson_residual = (Y - Y_fitted2)/np.sqrt(Y_fitted2)\n",
    "X.shape"
   ]
  },
  {
   "cell_type": "markdown",
   "metadata": {},
   "source": [
    "# Validation:"
   ]
  },
  {
   "cell_type": "code",
   "execution_count": 158,
   "metadata": {},
   "outputs": [
    {
     "data": {
      "text/plain": [
       "'pelvic_radius'"
      ]
     },
     "execution_count": 158,
     "metadata": {},
     "output_type": "execute_result"
    }
   ],
   "source": [
    "X.columns"
   ]
  },
  {
   "cell_type": "code",
   "execution_count": 41,
   "metadata": {},
   "outputs": [
    {
     "data": {
      "text/plain": [
       "1   -0.008707\n",
       "2   -0.729489\n",
       "3   -0.552746\n",
       "4   -0.658747\n",
       "5   -0.641789\n",
       "6    1.106034\n",
       "7   -0.790933\n",
       "8   -0.086808\n",
       "9    2.255139\n",
       "Name: degree_spondylolisthesis, dtype: float64"
      ]
     },
     "execution_count": 41,
     "metadata": {},
     "output_type": "execute_result"
    }
   ],
   "source": [
    "X.iloc[1:10,3]"
   ]
  },
  {
   "cell_type": "code",
   "execution_count": 138,
   "metadata": {
    "collapsed": true
   },
   "outputs": [],
   "source": [
    "# USING MODEL 2\n",
    "\n",
    "R = np.zeros([310, 4]) # 1. Create empty matrix \n",
    "R[:,0] = np.linspace(np.min(X.iloc[:,0]),\n",
    "                     np.max(X.iloc[:,0]), 310)#create a vector for var 2: 'degree_spondylolisthesis'\n",
    "'''\n",
    "R[:,1] = np.linspace(np.min(X.iloc[:,1]),\n",
    "                     np.max(X.iloc[:,1]), 310)#create a vector for var 2: 'degree_spondylolisthesis'\n",
    "R[:,2] = np.linspace(np.min(X.iloc[:,2]),\n",
    "                     np.max(X.iloc[:,2]), 310)#create a vector for var 2: 'degree_spondylolisthesis'\n",
    "R[:,3] = np.linspace(np.min(X.iloc[:,3]),\n",
    "                     np.max(X.iloc[:,3]), 310)#create a vector for var 2: 'degree_spondylolisthesis'\n",
    "'''\n",
    "R = pd.DataFrame(R)\n",
    "y_pred = reg2.predict(R)\n"
   ]
  },
  {
   "cell_type": "code",
   "execution_count": 139,
   "metadata": {},
   "outputs": [
    {
     "data": {
      "text/html": [
       "<div>\n",
       "<style>\n",
       "    .dataframe thead tr:only-child th {\n",
       "        text-align: right;\n",
       "    }\n",
       "\n",
       "    .dataframe thead th {\n",
       "        text-align: left;\n",
       "    }\n",
       "\n",
       "    .dataframe tbody tr th {\n",
       "        vertical-align: top;\n",
       "    }\n",
       "</style>\n",
       "<table border=\"1\" class=\"dataframe\">\n",
       "  <thead>\n",
       "    <tr style=\"text-align: right;\">\n",
       "      <th></th>\n",
       "      <th>0</th>\n",
       "      <th>1</th>\n",
       "      <th>2</th>\n",
       "      <th>3</th>\n",
       "    </tr>\n",
       "  </thead>\n",
       "  <tbody>\n",
       "    <tr>\n",
       "      <th>0</th>\n",
       "      <td>-2.411664</td>\n",
       "      <td>0.0</td>\n",
       "      <td>0.0</td>\n",
       "      <td>0.0</td>\n",
       "    </tr>\n",
       "    <tr>\n",
       "      <th>1</th>\n",
       "      <td>-2.393531</td>\n",
       "      <td>0.0</td>\n",
       "      <td>0.0</td>\n",
       "      <td>0.0</td>\n",
       "    </tr>\n",
       "    <tr>\n",
       "      <th>2</th>\n",
       "      <td>-2.375398</td>\n",
       "      <td>0.0</td>\n",
       "      <td>0.0</td>\n",
       "      <td>0.0</td>\n",
       "    </tr>\n",
       "    <tr>\n",
       "      <th>3</th>\n",
       "      <td>-2.357266</td>\n",
       "      <td>0.0</td>\n",
       "      <td>0.0</td>\n",
       "      <td>0.0</td>\n",
       "    </tr>\n",
       "    <tr>\n",
       "      <th>4</th>\n",
       "      <td>-2.339133</td>\n",
       "      <td>0.0</td>\n",
       "      <td>0.0</td>\n",
       "      <td>0.0</td>\n",
       "    </tr>\n",
       "  </tbody>\n",
       "</table>\n",
       "</div>"
      ],
      "text/plain": [
       "          0    1    2    3\n",
       "0 -2.411664  0.0  0.0  0.0\n",
       "1 -2.393531  0.0  0.0  0.0\n",
       "2 -2.375398  0.0  0.0  0.0\n",
       "3 -2.357266  0.0  0.0  0.0\n",
       "4 -2.339133  0.0  0.0  0.0"
      ]
     },
     "execution_count": 139,
     "metadata": {},
     "output_type": "execute_result"
    }
   ],
   "source": [
    "R.head() # You see that columns 0,1,2 are empty, I wanna repeat the mean of those variables to plot 3!"
   ]
  },
  {
   "cell_type": "code",
   "execution_count": 140,
   "metadata": {},
   "outputs": [
    {
     "data": {
      "text/plain": [
       "0   -2.411664\n",
       "1   -2.393531\n",
       "2   -2.375398\n",
       "3   -2.357266\n",
       "4   -2.339133\n",
       "Name: 0, dtype: float64"
      ]
     },
     "execution_count": 140,
     "metadata": {},
     "output_type": "execute_result"
    }
   ],
   "source": [
    "R.iloc[:,0].head()"
   ]
  },
  {
   "cell_type": "code",
   "execution_count": 218,
   "metadata": {
    "collapsed": true
   },
   "outputs": [],
   "source": [
    "# USING MODEL 2\n",
    "def plot_prob(index):\n",
    "    \n",
    "    \n",
    "    R = np.zeros([310, 4]) # 1. Create empty matrix \n",
    "    R[:,index] = np.linspace(np.min(X.iloc[:,index]),\n",
    "                         np.max(X.iloc[:,index]), 310)#create a vector for var 2: 'degree_spondylolisthesis'\n",
    "    R = pd.DataFrame(R)\n",
    "    y_pred = reg2.predict(R)\n",
    "\n",
    "    plt.subplot(121)\n",
    "    plt.plot(X.iloc[:,index], Y, 'o') # HERE PLOT RAW DATA in BLUE\n",
    "    Prob = reg2.predict_proba(R)\n",
    "\n",
    "    plt.plot(R.iloc[:,index], Prob[:,0], 'o') #0 = Normal, 1= abnormal\n",
    "    plt.xlabel(X.columns[index])\n",
    "    plt.ylabel('Probability of Normality')\n",
    "    plt.show()\n",
    "    \n",
    "    plt.subplot(122)\n",
    "    plt.plot(X.iloc[:,index], Y, 'o') # HERE PLOT RAW DATA in BLUE\n",
    "    Prob = reg2.predict_proba(R)\n",
    "\n",
    "    plt.plot(R.iloc[:,index], Prob[:,1], 'o') #0 = Normal, 1= abnormal\n",
    "    plt.xlabel(X.columns[index])\n",
    "    plt.ylabel('Probability of Abnormality')\n",
    "    plt.show()"
   ]
  },
  {
   "cell_type": "code",
   "execution_count": 219,
   "metadata": {},
   "outputs": [
    {
     "data": {
      "image/png": "[encoded data removed]",
      "text/plain": [
       "<matplotlib.figure.Figure at 0xe95b588>"
      ]
     },
     "metadata": {},
     "output_type": "display_data"
    },
    {
     "data": {
      "image/png": "[encoded data removed]",
      "text/plain": [
       "<matplotlib.figure.Figure at 0xd80d860>"
      ]
     },
     "metadata": {},
     "output_type": "display_data"
    }
   ],
   "source": [
    "plot_prob(0)"
   ]
  },
  {
   "cell_type": "code",
   "execution_count": 185,
   "metadata": {},
   "outputs": [
    {
     "data": {
      "image/png": "[encoded data removed]",
      "text/plain": [
       "<matplotlib.figure.Figure at 0xe8a8748>"
      ]
     },
     "metadata": {},
     "output_type": "display_data"
    },
    {
     "data": {
      "image/png": "[encoded data removed]",
      "text/plain": [
       "<matplotlib.figure.Figure at 0xd323f60>"
      ]
     },
     "metadata": {},
     "output_type": "display_data"
    }
   ],
   "source": [
    "plot_prob(1)"
   ]
  },
  {
   "cell_type": "code",
   "execution_count": 186,
   "metadata": {},
   "outputs": [
    {
     "data": {
      "image/png": "[encoded data removed]",
      "text/plain": [
       "<matplotlib.figure.Figure at 0xd2124a8>"
      ]
     },
     "metadata": {},
     "output_type": "display_data"
    },
    {
     "data": {
      "image/png": "[encoded data removed]",
      "text/plain": [
       "<matplotlib.figure.Figure at 0xd80d3c8>"
      ]
     },
     "metadata": {},
     "output_type": "display_data"
    }
   ],
   "source": [
    "plot_prob(2)"
   ]
  },
  {
   "cell_type": "code",
   "execution_count": 187,
   "metadata": {},
   "outputs": [
    {
     "data": {
      "image/png": "[encoded data removed]",
      "text/plain": [
       "<matplotlib.figure.Figure at 0xd593208>"
      ]
     },
     "metadata": {},
     "output_type": "display_data"
    },
    {
     "data": {
      "image/png": "[encoded data removed]",
      "text/plain": [
       "<matplotlib.figure.Figure at 0xd65fcc0>"
      ]
     },
     "metadata": {},
     "output_type": "display_data"
    }
   ],
   "source": [
    "plot_prob(3)"
   ]
  },
  {
   "cell_type": "markdown",
   "metadata": {},
   "source": [
    "# Notice the x-axis is standarized, indicating 0 as the average!"
   ]
  },
  {
   "cell_type": "code",
   "execution_count": 221,
   "metadata": {},
   "outputs": [
    {
     "data": {
      "text/plain": [
       "Index(['pelvic_tilt', 'sacral_slope', 'pelvic_radius',\n",
       "       'degree_spondylolisthesis'],\n",
       "      dtype='object')"
      ]
     },
     "execution_count": 221,
     "metadata": {},
     "output_type": "execute_result"
    }
   ],
   "source": [
    "X.columns"
   ]
  },
  {
   "cell_type": "markdown",
   "metadata": {
    "collapsed": true
   },
   "source": [
    "# TOOL:"
   ]
  },
  {
   "cell_type": "markdown",
   "metadata": {},
   "source": [
    "1. It seems to be that values for \"degree_spondylolisthesis\" right aboove the average indicate high chance of abnormality\n",
    "2. In contrast, \"Pelvic radious\" lower than the average indicate high probability of abnormality"
   ]
  },
  {
   "cell_type": "code",
   "execution_count": 273,
   "metadata": {},
   "outputs": [
    {
     "name": "stdout",
     "output_type": "stream",
     "text": [
      "<class 'pandas.core.frame.DataFrame'>\n",
      "<class 'numpy.ndarray'>\n",
      "<class 'pandas.core.series.Series'>\n",
      "<class 'pandas.core.frame.DataFrame'>\n"
     ]
    }
   ],
   "source": [
    "print(type(X))\n",
    "print(type(Y_fitted2))\n",
    "print(type(Y))\n",
    "print(type(Y_Pred2))"
   ]
  },
  {
   "cell_type": "code",
   "execution_count": 274,
   "metadata": {
    "collapsed": true
   },
   "outputs": [],
   "source": [
    "X[\"Y_Pred2\"] = Y_fitted"
   ]
  },
  {
   "cell_type": "code",
   "execution_count": 280,
   "metadata": {
    "collapsed": true
   },
   "outputs": [],
   "source": [
    "X[\"Prob(Normal)\", \"Prob(Abormal)\"] = Y_Pred2.iloc[:,0:1]"
   ]
  },
  {
   "cell_type": "code",
   "execution_count": 271,
   "metadata": {
    "collapsed": true
   },
   "outputs": [],
   "source": [
    "Tool = [pd.Series(Y_fitted2), Y_Pred2]"
   ]
  },
  {
   "cell_type": "code",
   "execution_count": 283,
   "metadata": {},
   "outputs": [
    {
     "data": {
      "text/html": [
       "<div>\n",
       "<style>\n",
       "    .dataframe thead tr:only-child th {\n",
       "        text-align: right;\n",
       "    }\n",
       "\n",
       "    .dataframe thead th {\n",
       "        text-align: left;\n",
       "    }\n",
       "\n",
       "    .dataframe tbody tr th {\n",
       "        vertical-align: top;\n",
       "    }\n",
       "</style>\n",
       "<table border=\"1\" class=\"dataframe\">\n",
       "  <thead>\n",
       "    <tr style=\"text-align: right;\">\n",
       "      <th></th>\n",
       "      <th>pelvic_tilt</th>\n",
       "      <th>sacral_slope</th>\n",
       "      <th>pelvic_radius</th>\n",
       "      <th>degree_spondylolisthesis</th>\n",
       "      <th>Y_Pred2</th>\n",
       "      <th>(Prob(Normal), Prob(Abormal))</th>\n",
       "    </tr>\n",
       "  </thead>\n",
       "  <tbody>\n",
       "    <tr>\n",
       "      <th>0</th>\n",
       "      <td>-0.080702</td>\n",
       "      <td>-0.735901</td>\n",
       "      <td>0.264360</td>\n",
       "      <td>-0.650251</td>\n",
       "      <td>0</td>\n",
       "      <td>0.523615</td>\n",
       "    </tr>\n",
       "    <tr>\n",
       "      <th>1</th>\n",
       "      <td>-0.289004</td>\n",
       "      <td>0.740914</td>\n",
       "      <td>0.429577</td>\n",
       "      <td>-0.008707</td>\n",
       "      <td>1</td>\n",
       "      <td>0.347245</td>\n",
       "    </tr>\n",
       "    <tr>\n",
       "      <th>2</th>\n",
       "      <td>-1.087433</td>\n",
       "      <td>0.095682</td>\n",
       "      <td>0.017364</td>\n",
       "      <td>-0.729489</td>\n",
       "      <td>0</td>\n",
       "      <td>0.808589</td>\n",
       "    </tr>\n",
       "    <tr>\n",
       "      <th>3</th>\n",
       "      <td>-0.009906</td>\n",
       "      <td>-1.153682</td>\n",
       "      <td>0.004488</td>\n",
       "      <td>-0.552746</td>\n",
       "      <td>1</td>\n",
       "      <td>0.267759</td>\n",
       "    </tr>\n",
       "    <tr>\n",
       "      <th>4</th>\n",
       "      <td>-0.262317</td>\n",
       "      <td>1.276019</td>\n",
       "      <td>-0.923238</td>\n",
       "      <td>-0.658747</td>\n",
       "      <td>0</td>\n",
       "      <td>0.695521</td>\n",
       "    </tr>\n",
       "    <tr>\n",
       "      <th>5</th>\n",
       "      <td>-0.362375</td>\n",
       "      <td>-1.240579</td>\n",
       "      <td>0.933162</td>\n",
       "      <td>-0.641789</td>\n",
       "      <td>0</td>\n",
       "      <td>0.615873</td>\n",
       "    </tr>\n",
       "    <tr>\n",
       "      <th>6</th>\n",
       "      <td>1.998859</td>\n",
       "      <td>-0.706466</td>\n",
       "      <td>0.544799</td>\n",
       "      <td>1.106034</td>\n",
       "      <td>1</td>\n",
       "      <td>0.000662</td>\n",
       "    </tr>\n",
       "    <tr>\n",
       "      <th>7</th>\n",
       "      <td>-2.340713</td>\n",
       "      <td>0.433551</td>\n",
       "      <td>0.277244</td>\n",
       "      <td>-0.790933</td>\n",
       "      <td>0</td>\n",
       "      <td>0.949798</td>\n",
       "    </tr>\n",
       "    <tr>\n",
       "      <th>8</th>\n",
       "      <td>-0.848473</td>\n",
       "      <td>-0.089060</td>\n",
       "      <td>-2.927313</td>\n",
       "      <td>-0.086808</td>\n",
       "      <td>1</td>\n",
       "      <td>0.009916</td>\n",
       "    </tr>\n",
       "    <tr>\n",
       "      <th>9</th>\n",
       "      <td>1.851468</td>\n",
       "      <td>0.578801</td>\n",
       "      <td>1.616580</td>\n",
       "      <td>2.255139</td>\n",
       "      <td>1</td>\n",
       "      <td>0.000104</td>\n",
       "    </tr>\n",
       "    <tr>\n",
       "      <th>10</th>\n",
       "      <td>0.467932</td>\n",
       "      <td>0.273083</td>\n",
       "      <td>-0.897686</td>\n",
       "      <td>-0.795421</td>\n",
       "      <td>0</td>\n",
       "      <td>0.507770</td>\n",
       "    </tr>\n",
       "    <tr>\n",
       "      <th>11</th>\n",
       "      <td>-0.179033</td>\n",
       "      <td>0.152683</td>\n",
       "      <td>-0.366078</td>\n",
       "      <td>0.143922</td>\n",
       "      <td>1</td>\n",
       "      <td>0.061463</td>\n",
       "    </tr>\n",
       "    <tr>\n",
       "      <th>12</th>\n",
       "      <td>-0.732956</td>\n",
       "      <td>-0.616253</td>\n",
       "      <td>0.914193</td>\n",
       "      <td>0.295155</td>\n",
       "      <td>1</td>\n",
       "      <td>0.089532</td>\n",
       "    </tr>\n",
       "    <tr>\n",
       "      <th>13</th>\n",
       "      <td>-0.529289</td>\n",
       "      <td>-1.005709</td>\n",
       "      <td>-0.100403</td>\n",
       "      <td>-0.734461</td>\n",
       "      <td>1</td>\n",
       "      <td>0.494742</td>\n",
       "    </tr>\n",
       "    <tr>\n",
       "      <th>14</th>\n",
       "      <td>1.293730</td>\n",
       "      <td>0.274802</td>\n",
       "      <td>-0.433898</td>\n",
       "      <td>1.185714</td>\n",
       "      <td>1</td>\n",
       "      <td>0.000605</td>\n",
       "    </tr>\n",
       "    <tr>\n",
       "      <th>15</th>\n",
       "      <td>-0.685949</td>\n",
       "      <td>-0.435548</td>\n",
       "      <td>0.561864</td>\n",
       "      <td>-0.712010</td>\n",
       "      <td>0</td>\n",
       "      <td>0.779936</td>\n",
       "    </tr>\n",
       "    <tr>\n",
       "      <th>16</th>\n",
       "      <td>1.517349</td>\n",
       "      <td>1.046328</td>\n",
       "      <td>0.905154</td>\n",
       "      <td>1.752890</td>\n",
       "      <td>1</td>\n",
       "      <td>0.000587</td>\n",
       "    </tr>\n",
       "    <tr>\n",
       "      <th>17</th>\n",
       "      <td>-0.237060</td>\n",
       "      <td>0.498576</td>\n",
       "      <td>-0.469371</td>\n",
       "      <td>-0.130392</td>\n",
       "      <td>1</td>\n",
       "      <td>0.192220</td>\n",
       "    </tr>\n",
       "    <tr>\n",
       "      <th>18</th>\n",
       "      <td>-1.056171</td>\n",
       "      <td>-1.332113</td>\n",
       "      <td>1.078836</td>\n",
       "      <td>-0.530243</td>\n",
       "      <td>0</td>\n",
       "      <td>0.618355</td>\n",
       "    </tr>\n",
       "    <tr>\n",
       "      <th>19</th>\n",
       "      <td>-1.571960</td>\n",
       "      <td>-0.301636</td>\n",
       "      <td>1.603993</td>\n",
       "      <td>-0.683446</td>\n",
       "      <td>0</td>\n",
       "      <td>0.948446</td>\n",
       "    </tr>\n",
       "    <tr>\n",
       "      <th>20</th>\n",
       "      <td>0.073664</td>\n",
       "      <td>1.795140</td>\n",
       "      <td>-0.546030</td>\n",
       "      <td>0.869057</td>\n",
       "      <td>1</td>\n",
       "      <td>0.014263</td>\n",
       "    </tr>\n",
       "    <tr>\n",
       "      <th>21</th>\n",
       "      <td>0.261916</td>\n",
       "      <td>0.584935</td>\n",
       "      <td>-0.131072</td>\n",
       "      <td>0.166024</td>\n",
       "      <td>1</td>\n",
       "      <td>0.086330</td>\n",
       "    </tr>\n",
       "    <tr>\n",
       "      <th>22</th>\n",
       "      <td>0.371593</td>\n",
       "      <td>1.259018</td>\n",
       "      <td>-2.094542</td>\n",
       "      <td>0.609699</td>\n",
       "      <td>1</td>\n",
       "      <td>0.003489</td>\n",
       "    </tr>\n",
       "    <tr>\n",
       "      <th>23</th>\n",
       "      <td>0.515618</td>\n",
       "      <td>-0.313564</td>\n",
       "      <td>0.582893</td>\n",
       "      <td>-0.773488</td>\n",
       "      <td>0</td>\n",
       "      <td>0.734453</td>\n",
       "    </tr>\n",
       "    <tr>\n",
       "      <th>24</th>\n",
       "      <td>-0.409901</td>\n",
       "      <td>-0.202775</td>\n",
       "      <td>-0.301368</td>\n",
       "      <td>-0.628284</td>\n",
       "      <td>0</td>\n",
       "      <td>0.515167</td>\n",
       "    </tr>\n",
       "    <tr>\n",
       "      <th>25</th>\n",
       "      <td>-0.100239</td>\n",
       "      <td>-1.266987</td>\n",
       "      <td>0.203919</td>\n",
       "      <td>-0.491220</td>\n",
       "      <td>1</td>\n",
       "      <td>0.253743</td>\n",
       "    </tr>\n",
       "    <tr>\n",
       "      <th>26</th>\n",
       "      <td>-0.157471</td>\n",
       "      <td>-0.544606</td>\n",
       "      <td>0.862271</td>\n",
       "      <td>-0.674361</td>\n",
       "      <td>0</td>\n",
       "      <td>0.746476</td>\n",
       "    </tr>\n",
       "    <tr>\n",
       "      <th>27</th>\n",
       "      <td>-0.408782</td>\n",
       "      <td>0.019122</td>\n",
       "      <td>-1.822252</td>\n",
       "      <td>-0.138368</td>\n",
       "      <td>1</td>\n",
       "      <td>0.035801</td>\n",
       "    </tr>\n",
       "    <tr>\n",
       "      <th>28</th>\n",
       "      <td>0.358238</td>\n",
       "      <td>0.740914</td>\n",
       "      <td>0.171881</td>\n",
       "      <td>1.286948</td>\n",
       "      <td>1</td>\n",
       "      <td>0.002062</td>\n",
       "    </tr>\n",
       "    <tr>\n",
       "      <th>29</th>\n",
       "      <td>-0.133503</td>\n",
       "      <td>-1.455499</td>\n",
       "      <td>1.053060</td>\n",
       "      <td>-0.833787</td>\n",
       "      <td>0</td>\n",
       "      <td>0.733239</td>\n",
       "    </tr>\n",
       "    <tr>\n",
       "      <th>...</th>\n",
       "      <td>...</td>\n",
       "      <td>...</td>\n",
       "      <td>...</td>\n",
       "      <td>...</td>\n",
       "      <td>...</td>\n",
       "      <td>...</td>\n",
       "    </tr>\n",
       "    <tr>\n",
       "      <th>280</th>\n",
       "      <td>-0.096621</td>\n",
       "      <td>-1.356473</td>\n",
       "      <td>-0.350032</td>\n",
       "      <td>-0.821226</td>\n",
       "      <td>1</td>\n",
       "      <td>0.369947</td>\n",
       "    </tr>\n",
       "    <tr>\n",
       "      <th>281</th>\n",
       "      <td>0.553894</td>\n",
       "      <td>1.331849</td>\n",
       "      <td>0.505827</td>\n",
       "      <td>1.446966</td>\n",
       "      <td>1</td>\n",
       "      <td>0.002601</td>\n",
       "    </tr>\n",
       "    <tr>\n",
       "      <th>282</th>\n",
       "      <td>0.168914</td>\n",
       "      <td>-0.621551</td>\n",
       "      <td>0.282062</td>\n",
       "      <td>-0.559140</td>\n",
       "      <td>1</td>\n",
       "      <td>0.437469</td>\n",
       "    </tr>\n",
       "    <tr>\n",
       "      <th>283</th>\n",
       "      <td>0.243018</td>\n",
       "      <td>0.074958</td>\n",
       "      <td>-0.365129</td>\n",
       "      <td>-0.996172</td>\n",
       "      <td>0</td>\n",
       "      <td>0.788692</td>\n",
       "    </tr>\n",
       "    <tr>\n",
       "      <th>284</th>\n",
       "      <td>-1.109000</td>\n",
       "      <td>0.094120</td>\n",
       "      <td>-0.100233</td>\n",
       "      <td>-0.707001</td>\n",
       "      <td>0</td>\n",
       "      <td>0.774392</td>\n",
       "    </tr>\n",
       "    <tr>\n",
       "      <th>285</th>\n",
       "      <td>-1.067709</td>\n",
       "      <td>0.534531</td>\n",
       "      <td>-0.597374</td>\n",
       "      <td>0.280370</td>\n",
       "      <td>1</td>\n",
       "      <td>0.064404</td>\n",
       "    </tr>\n",
       "    <tr>\n",
       "      <th>286</th>\n",
       "      <td>-0.402813</td>\n",
       "      <td>-0.368790</td>\n",
       "      <td>0.661698</td>\n",
       "      <td>-0.329837</td>\n",
       "      <td>1</td>\n",
       "      <td>0.460428</td>\n",
       "    </tr>\n",
       "    <tr>\n",
       "      <th>287</th>\n",
       "      <td>-0.106241</td>\n",
       "      <td>-1.663622</td>\n",
       "      <td>0.533527</td>\n",
       "      <td>-0.504829</td>\n",
       "      <td>1</td>\n",
       "      <td>0.261882</td>\n",
       "    </tr>\n",
       "    <tr>\n",
       "      <th>288</th>\n",
       "      <td>0.305553</td>\n",
       "      <td>-0.218154</td>\n",
       "      <td>-0.052279</td>\n",
       "      <td>2.095091</td>\n",
       "      <td>1</td>\n",
       "      <td>0.000030</td>\n",
       "    </tr>\n",
       "    <tr>\n",
       "      <th>289</th>\n",
       "      <td>2.277877</td>\n",
       "      <td>0.239923</td>\n",
       "      <td>-1.543069</td>\n",
       "      <td>0.785514</td>\n",
       "      <td>1</td>\n",
       "      <td>0.000465</td>\n",
       "    </tr>\n",
       "    <tr>\n",
       "      <th>290</th>\n",
       "      <td>-0.087202</td>\n",
       "      <td>1.169514</td>\n",
       "      <td>0.072408</td>\n",
       "      <td>0.140783</td>\n",
       "      <td>1</td>\n",
       "      <td>0.215513</td>\n",
       "    </tr>\n",
       "    <tr>\n",
       "      <th>291</th>\n",
       "      <td>1.207673</td>\n",
       "      <td>0.927888</td>\n",
       "      <td>0.676325</td>\n",
       "      <td>1.200704</td>\n",
       "      <td>1</td>\n",
       "      <td>0.003875</td>\n",
       "    </tr>\n",
       "    <tr>\n",
       "      <th>292</th>\n",
       "      <td>-0.124588</td>\n",
       "      <td>-0.240387</td>\n",
       "      <td>-0.293139</td>\n",
       "      <td>-0.763296</td>\n",
       "      <td>0</td>\n",
       "      <td>0.598513</td>\n",
       "    </tr>\n",
       "    <tr>\n",
       "      <th>293</th>\n",
       "      <td>0.255433</td>\n",
       "      <td>-0.562386</td>\n",
       "      <td>0.355606</td>\n",
       "      <td>0.220176</td>\n",
       "      <td>1</td>\n",
       "      <td>0.042273</td>\n",
       "    </tr>\n",
       "    <tr>\n",
       "      <th>294</th>\n",
       "      <td>-1.053981</td>\n",
       "      <td>-0.791437</td>\n",
       "      <td>-0.007664</td>\n",
       "      <td>-0.650498</td>\n",
       "      <td>0</td>\n",
       "      <td>0.560117</td>\n",
       "    </tr>\n",
       "    <tr>\n",
       "      <th>295</th>\n",
       "      <td>0.121727</td>\n",
       "      <td>-1.204161</td>\n",
       "      <td>-0.084511</td>\n",
       "      <td>-0.617754</td>\n",
       "      <td>1</td>\n",
       "      <td>0.273824</td>\n",
       "    </tr>\n",
       "    <tr>\n",
       "      <th>296</th>\n",
       "      <td>2.005074</td>\n",
       "      <td>-1.619478</td>\n",
       "      <td>1.331898</td>\n",
       "      <td>2.427250</td>\n",
       "      <td>1</td>\n",
       "      <td>0.000004</td>\n",
       "    </tr>\n",
       "    <tr>\n",
       "      <th>297</th>\n",
       "      <td>0.047531</td>\n",
       "      <td>-0.908088</td>\n",
       "      <td>1.596717</td>\n",
       "      <td>-0.422787</td>\n",
       "      <td>0</td>\n",
       "      <td>0.620145</td>\n",
       "    </tr>\n",
       "    <tr>\n",
       "      <th>298</th>\n",
       "      <td>-1.604831</td>\n",
       "      <td>-0.018240</td>\n",
       "      <td>-0.698795</td>\n",
       "      <td>0.440386</td>\n",
       "      <td>1</td>\n",
       "      <td>0.025294</td>\n",
       "    </tr>\n",
       "    <tr>\n",
       "      <th>299</th>\n",
       "      <td>-0.545774</td>\n",
       "      <td>-0.544606</td>\n",
       "      <td>-0.030735</td>\n",
       "      <td>-0.123053</td>\n",
       "      <td>1</td>\n",
       "      <td>0.139941</td>\n",
       "    </tr>\n",
       "    <tr>\n",
       "      <th>300</th>\n",
       "      <td>-0.678868</td>\n",
       "      <td>-2.056896</td>\n",
       "      <td>0.547737</td>\n",
       "      <td>-0.970436</td>\n",
       "      <td>0</td>\n",
       "      <td>0.661195</td>\n",
       "    </tr>\n",
       "    <tr>\n",
       "      <th>301</th>\n",
       "      <td>-1.247860</td>\n",
       "      <td>-1.058557</td>\n",
       "      <td>0.453117</td>\n",
       "      <td>-0.706589</td>\n",
       "      <td>0</td>\n",
       "      <td>0.693098</td>\n",
       "    </tr>\n",
       "    <tr>\n",
       "      <th>302</th>\n",
       "      <td>0.728551</td>\n",
       "      <td>2.059939</td>\n",
       "      <td>-2.152028</td>\n",
       "      <td>0.836413</td>\n",
       "      <td>1</td>\n",
       "      <td>0.002484</td>\n",
       "    </tr>\n",
       "    <tr>\n",
       "      <th>303</th>\n",
       "      <td>-0.216375</td>\n",
       "      <td>2.674357</td>\n",
       "      <td>-0.227931</td>\n",
       "      <td>0.718925</td>\n",
       "      <td>1</td>\n",
       "      <td>0.090114</td>\n",
       "    </tr>\n",
       "    <tr>\n",
       "      <th>304</th>\n",
       "      <td>0.282189</td>\n",
       "      <td>0.038701</td>\n",
       "      <td>-0.422023</td>\n",
       "      <td>-0.717877</td>\n",
       "      <td>0</td>\n",
       "      <td>0.534912</td>\n",
       "    </tr>\n",
       "    <tr>\n",
       "      <th>305</th>\n",
       "      <td>-0.057898</td>\n",
       "      <td>-1.597803</td>\n",
       "      <td>0.730468</td>\n",
       "      <td>-0.488288</td>\n",
       "      <td>1</td>\n",
       "      <td>0.301494</td>\n",
       "    </tr>\n",
       "    <tr>\n",
       "      <th>306</th>\n",
       "      <td>0.352227</td>\n",
       "      <td>-0.678787</td>\n",
       "      <td>0.548445</td>\n",
       "      <td>-0.636404</td>\n",
       "      <td>0</td>\n",
       "      <td>0.547544</td>\n",
       "    </tr>\n",
       "    <tr>\n",
       "      <th>307</th>\n",
       "      <td>0.510039</td>\n",
       "      <td>1.808883</td>\n",
       "      <td>-1.310140</td>\n",
       "      <td>-0.620179</td>\n",
       "      <td>0</td>\n",
       "      <td>0.588641</td>\n",
       "    </tr>\n",
       "    <tr>\n",
       "      <th>308</th>\n",
       "      <td>-1.122069</td>\n",
       "      <td>1.036325</td>\n",
       "      <td>-0.547285</td>\n",
       "      <td>0.434989</td>\n",
       "      <td>1</td>\n",
       "      <td>0.063156</td>\n",
       "    </tr>\n",
       "    <tr>\n",
       "      <th>309</th>\n",
       "      <td>0.318116</td>\n",
       "      <td>-0.726682</td>\n",
       "      <td>-0.267362</td>\n",
       "      <td>-0.712503</td>\n",
       "      <td>1</td>\n",
       "      <td>0.386448</td>\n",
       "    </tr>\n",
       "  </tbody>\n",
       "</table>\n",
       "<p>310 rows × 6 columns</p>\n",
       "</div>"
      ],
      "text/plain": [
       "     pelvic_tilt  sacral_slope  pelvic_radius  degree_spondylolisthesis  \\\n",
       "0      -0.080702     -0.735901       0.264360                 -0.650251   \n",
       "1      -0.289004      0.740914       0.429577                 -0.008707   \n",
       "2      -1.087433      0.095682       0.017364                 -0.729489   \n",
       "3      -0.009906     -1.153682       0.004488                 -0.552746   \n",
       "4      -0.262317      1.276019      -0.923238                 -0.658747   \n",
       "5      -0.362375     -1.240579       0.933162                 -0.641789   \n",
       "6       1.998859     -0.706466       0.544799                  1.106034   \n",
       "7      -2.340713      0.433551       0.277244                 -0.790933   \n",
       "8      -0.848473     -0.089060      -2.927313                 -0.086808   \n",
       "9       1.851468      0.578801       1.616580                  2.255139   \n",
       "10      0.467932      0.273083      -0.897686                 -0.795421   \n",
       "11     -0.179033      0.152683      -0.366078                  0.143922   \n",
       "12     -0.732956     -0.616253       0.914193                  0.295155   \n",
       "13     -0.529289     -1.005709      -0.100403                 -0.734461   \n",
       "14      1.293730      0.274802      -0.433898                  1.185714   \n",
       "15     -0.685949     -0.435548       0.561864                 -0.712010   \n",
       "16      1.517349      1.046328       0.905154                  1.752890   \n",
       "17     -0.237060      0.498576      -0.469371                 -0.130392   \n",
       "18     -1.056171     -1.332113       1.078836                 -0.530243   \n",
       "19     -1.571960     -0.301636       1.603993                 -0.683446   \n",
       "20      0.073664      1.795140      -0.546030                  0.869057   \n",
       "21      0.261916      0.584935      -0.131072                  0.166024   \n",
       "22      0.371593      1.259018      -2.094542                  0.609699   \n",
       "23      0.515618     -0.313564       0.582893                 -0.773488   \n",
       "24     -0.409901     -0.202775      -0.301368                 -0.628284   \n",
       "25     -0.100239     -1.266987       0.203919                 -0.491220   \n",
       "26     -0.157471     -0.544606       0.862271                 -0.674361   \n",
       "27     -0.408782      0.019122      -1.822252                 -0.138368   \n",
       "28      0.358238      0.740914       0.171881                  1.286948   \n",
       "29     -0.133503     -1.455499       1.053060                 -0.833787   \n",
       "..           ...           ...            ...                       ...   \n",
       "280    -0.096621     -1.356473      -0.350032                 -0.821226   \n",
       "281     0.553894      1.331849       0.505827                  1.446966   \n",
       "282     0.168914     -0.621551       0.282062                 -0.559140   \n",
       "283     0.243018      0.074958      -0.365129                 -0.996172   \n",
       "284    -1.109000      0.094120      -0.100233                 -0.707001   \n",
       "285    -1.067709      0.534531      -0.597374                  0.280370   \n",
       "286    -0.402813     -0.368790       0.661698                 -0.329837   \n",
       "287    -0.106241     -1.663622       0.533527                 -0.504829   \n",
       "288     0.305553     -0.218154      -0.052279                  2.095091   \n",
       "289     2.277877      0.239923      -1.543069                  0.785514   \n",
       "290    -0.087202      1.169514       0.072408                  0.140783   \n",
       "291     1.207673      0.927888       0.676325                  1.200704   \n",
       "292    -0.124588     -0.240387      -0.293139                 -0.763296   \n",
       "293     0.255433     -0.562386       0.355606                  0.220176   \n",
       "294    -1.053981     -0.791437      -0.007664                 -0.650498   \n",
       "295     0.121727     -1.204161      -0.084511                 -0.617754   \n",
       "296     2.005074     -1.619478       1.331898                  2.427250   \n",
       "297     0.047531     -0.908088       1.596717                 -0.422787   \n",
       "298    -1.604831     -0.018240      -0.698795                  0.440386   \n",
       "299    -0.545774     -0.544606      -0.030735                 -0.123053   \n",
       "300    -0.678868     -2.056896       0.547737                 -0.970436   \n",
       "301    -1.247860     -1.058557       0.453117                 -0.706589   \n",
       "302     0.728551      2.059939      -2.152028                  0.836413   \n",
       "303    -0.216375      2.674357      -0.227931                  0.718925   \n",
       "304     0.282189      0.038701      -0.422023                 -0.717877   \n",
       "305    -0.057898     -1.597803       0.730468                 -0.488288   \n",
       "306     0.352227     -0.678787       0.548445                 -0.636404   \n",
       "307     0.510039      1.808883      -1.310140                 -0.620179   \n",
       "308    -1.122069      1.036325      -0.547285                  0.434989   \n",
       "309     0.318116     -0.726682      -0.267362                 -0.712503   \n",
       "\n",
       "     Y_Pred2  (Prob(Normal), Prob(Abormal))  \n",
       "0          0                       0.523615  \n",
       "1          1                       0.347245  \n",
       "2          0                       0.808589  \n",
       "3          1                       0.267759  \n",
       "4          0                       0.695521  \n",
       "5          0                       0.615873  \n",
       "6          1                       0.000662  \n",
       "7          0                       0.949798  \n",
       "8          1                       0.009916  \n",
       "9          1                       0.000104  \n",
       "10         0                       0.507770  \n",
       "11         1                       0.061463  \n",
       "12         1                       0.089532  \n",
       "13         1                       0.494742  \n",
       "14         1                       0.000605  \n",
       "15         0                       0.779936  \n",
       "16         1                       0.000587  \n",
       "17         1                       0.192220  \n",
       "18         0                       0.618355  \n",
       "19         0                       0.948446  \n",
       "20         1                       0.014263  \n",
       "21         1                       0.086330  \n",
       "22         1                       0.003489  \n",
       "23         0                       0.734453  \n",
       "24         0                       0.515167  \n",
       "25         1                       0.253743  \n",
       "26         0                       0.746476  \n",
       "27         1                       0.035801  \n",
       "28         1                       0.002062  \n",
       "29         0                       0.733239  \n",
       "..       ...                            ...  \n",
       "280        1                       0.369947  \n",
       "281        1                       0.002601  \n",
       "282        1                       0.437469  \n",
       "283        0                       0.788692  \n",
       "284        0                       0.774392  \n",
       "285        1                       0.064404  \n",
       "286        1                       0.460428  \n",
       "287        1                       0.261882  \n",
       "288        1                       0.000030  \n",
       "289        1                       0.000465  \n",
       "290        1                       0.215513  \n",
       "291        1                       0.003875  \n",
       "292        0                       0.598513  \n",
       "293        1                       0.042273  \n",
       "294        0                       0.560117  \n",
       "295        1                       0.273824  \n",
       "296        1                       0.000004  \n",
       "297        0                       0.620145  \n",
       "298        1                       0.025294  \n",
       "299        1                       0.139941  \n",
       "300        0                       0.661195  \n",
       "301        0                       0.693098  \n",
       "302        1                       0.002484  \n",
       "303        1                       0.090114  \n",
       "304        0                       0.534912  \n",
       "305        1                       0.301494  \n",
       "306        0                       0.547544  \n",
       "307        0                       0.588641  \n",
       "308        1                       0.063156  \n",
       "309        1                       0.386448  \n",
       "\n",
       "[310 rows x 6 columns]"
      ]
     },
     "execution_count": 283,
     "metadata": {},
     "output_type": "execute_result"
    }
   ],
   "source": [
    "X"
   ]
  },
  {
   "cell_type": "markdown",
   "metadata": {},
   "source": [
    "# ROC curves: since the threshold was 68%, because the inbalance of the data, I produce these curves:"
   ]
  },
  {
   "cell_type": "code",
   "execution_count": 55,
   "metadata": {
    "collapsed": true
   },
   "outputs": [],
   "source": [
    "from sklearn.model_selection import train_test_split\n",
    "\n",
    "X_train, X_test, Y_train, Y_test = train_test_split(X, Y, test_size=0.3, random_state=0)\n",
    "columns = X_train.columns"
   ]
  },
  {
   "cell_type": "code",
   "execution_count": 56,
   "metadata": {},
   "outputs": [
    {
     "data": {
      "text/plain": [
       "Index(['pelvic_tilt', 'sacral_slope', 'pelvic_radius',\n",
       "       'degree_spondylolisthesis'],\n",
       "      dtype='object')"
      ]
     },
     "execution_count": 56,
     "metadata": {},
     "output_type": "execute_result"
    }
   ],
   "source": [
    "columns"
   ]
  },
  {
   "cell_type": "code",
   "execution_count": 57,
   "metadata": {
    "collapsed": true
   },
   "outputs": [],
   "source": [
    "from sklearn.metrics import roc_auc_score\n",
    "from sklearn.metrics import roc_curve\n"
   ]
  },
  {
   "cell_type": "code",
   "execution_count": 58,
   "metadata": {
    "collapsed": true
   },
   "outputs": [],
   "source": [
    "logit_roc_auc = roc_auc_score(Y_test, reg2.predict(X_test))\n"
   ]
  },
  {
   "cell_type": "code",
   "execution_count": 111,
   "metadata": {
    "collapsed": true
   },
   "outputs": [],
   "source": [
    "Probabilities = reg2.predict_proba(X_test)"
   ]
  },
  {
   "cell_type": "code",
   "execution_count": 113,
   "metadata": {},
   "outputs": [
    {
     "data": {
      "text/plain": [
       "pandas.core.frame.DataFrame"
      ]
     },
     "execution_count": 113,
     "metadata": {},
     "output_type": "execute_result"
    }
   ],
   "source": [
    "type(data)"
   ]
  },
  {
   "cell_type": "code",
   "execution_count": 104,
   "metadata": {},
   "outputs": [
    {
     "data": {
      "image/png": "[encoded data removed]",
      "text/plain": [
       "<matplotlib.figure.Figure at 0xe9fa2e8>"
      ]
     },
     "metadata": {},
     "output_type": "display_data"
    }
   ],
   "source": [
    "fpr, tpr, thresholds = roc_curve(Y_test, reg2.predict_proba(X_test)[:,1])\n",
    "plt.figure()\n",
    "plt.plot(fpr, tpr, label='Logistic Regression (area = %0.2f)' % logit_roc_auc)\n",
    "plt.plot([0, 1], [0, 1],'r--')\n",
    "plt.xlim([0.0, 1.0])\n",
    "plt.ylim([0.0, 1.05])\n",
    "plt.xlabel('False Positive Rate')\n",
    "plt.ylabel('True Positive Rate')\n",
    "plt.title('Receiver operating characteristic')\n",
    "plt.legend(loc=\"lower right\")\n",
    "plt.savefig('Log_ROC')\n",
    "plt.show()"
   ]
  },
  {
   "cell_type": "code",
   "execution_count": 105,
   "metadata": {},
   "outputs": [
    {
     "data": {
      "text/plain": [
       "0.1399999999999999"
      ]
     },
     "execution_count": 105,
     "metadata": {},
     "output_type": "execute_result"
    }
   ],
   "source": [
    "#0.82 - 0.68\n",
    "0.82-0.68 1\n",
    "14% improvement!"
   ]
  },
  {
   "cell_type": "code",
   "execution_count": 222,
   "metadata": {
    "collapsed": true
   },
   "outputs": [],
   "source": []
  },
  {
   "cell_type": "code",
   "execution_count": null,
   "metadata": {
    "collapsed": true
   },
   "outputs": [],
   "source": []
  }
 ],
 "metadata": {
  "kernelspec": {
   "display_name": "Python 3",
   "language": "python",
   "name": "python3"
  },
  "language_info": {
   "codemirror_mode": {
    "name": "ipython",
    "version": 3
   },
   "file_extension": ".py",
   "mimetype": "text/x-python",
   "name": "python",
   "nbconvert_exporter": "python",
   "pygments_lexer": "ipython3",
   "version": "3.7.3"
  }
 },
 "nbformat": 4,
 "nbformat_minor": 2
}
